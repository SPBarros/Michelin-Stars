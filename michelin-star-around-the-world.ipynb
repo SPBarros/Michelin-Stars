{
 "cells": [
  {
   "cell_type": "code",
   "execution_count": 1,
   "id": "b72d8213",
   "metadata": {
    "_cell_guid": "b1076dfc-b9ad-4769-8c92-a6c4dae69d19",
    "_uuid": "8f2839f25d086af736a60e9eeb907d3b93b6e0e5",
    "execution": {
     "iopub.execute_input": "2024-07-11T15:16:32.146797Z",
     "iopub.status.busy": "2024-07-11T15:16:32.145991Z",
     "iopub.status.idle": "2024-07-11T15:16:34.513292Z",
     "shell.execute_reply": "2024-07-11T15:16:34.511827Z"
    },
    "papermill": {
     "duration": 2.380141,
     "end_time": "2024-07-11T15:16:34.516046",
     "exception": false,
     "start_time": "2024-07-11T15:16:32.135905",
     "status": "completed"
    },
    "tags": []
   },
   "outputs": [
    {
     "name": "stdout",
     "output_type": "stream",
     "text": [
      "/kaggle/input/michelin-star-restaurants/one-star-michelin-restaurants.csv\n",
      "/kaggle/input/michelin-star-restaurants/three-stars-michelin-restaurants.csv\n",
      "/kaggle/input/michelin-star-restaurants/two-stars-michelin-restaurants.csv\n"
     ]
    }
   ],
   "source": [
    "# This Python 3 environment comes with many helpful analytics libraries installed\n",
    "# It is defined by the kaggle/python Docker image: https://github.com/kaggle/docker-python\n",
    "# For example, here's several helpful packages to load\n",
    "\n",
    "import numpy as np # linear algebra\n",
    "import pandas as pd # data processing, CSV file I/O (e.g. pd.read_csv)\n",
    "\n",
    "# Load the standard libraries to visualize data set\n",
    "import matplotlib.pyplot as plt\n",
    "import seaborn as sns\n",
    "\n",
    "# Input data files are available in the read-only \"../input/\" directory\n",
    "# For example, running this (by clicking run or pressing Shift+Enter) will list all files under the input directory\n",
    "\n",
    "import os\n",
    "for dirname, _, filenames in os.walk('/kaggle/input'):\n",
    "    for filename in filenames:\n",
    "        print(os.path.join(dirname, filename))\n",
    "\n",
    "# You can write up to 20GB to the current directory (/kaggle/working/) that gets preserved as output when you create a version using \"Save & Run All\" \n",
    "# You can also write temporary files to /kaggle/temp/, but they won't be saved outside of the current session"
   ]
  },
  {
   "cell_type": "code",
   "execution_count": 2,
   "id": "63fe09db",
   "metadata": {
    "execution": {
     "iopub.execute_input": "2024-07-11T15:16:34.532916Z",
     "iopub.status.busy": "2024-07-11T15:16:34.532387Z",
     "iopub.status.idle": "2024-07-11T15:16:34.568577Z",
     "shell.execute_reply": "2024-07-11T15:16:34.567366Z"
    },
    "papermill": {
     "duration": 0.048226,
     "end_time": "2024-07-11T15:16:34.571127",
     "exception": false,
     "start_time": "2024-07-11T15:16:34.522901",
     "status": "completed"
    },
    "tags": []
   },
   "outputs": [],
   "source": [
    "# Load the three Michelin Stars dataset into a pandas dataframe\n",
    "\n",
    "one_star = pd.read_csv('/kaggle/input/michelin-star-restaurants/one-star-michelin-restaurants.csv')\n",
    "two_stars = pd.read_csv('/kaggle/input/michelin-star-restaurants/two-stars-michelin-restaurants.csv')\n",
    "three_stars = pd.read_csv('/kaggle/input/michelin-star-restaurants/three-stars-michelin-restaurants.csv')\n"
   ]
  },
  {
   "cell_type": "code",
   "execution_count": 3,
   "id": "30256cf3",
   "metadata": {
    "execution": {
     "iopub.execute_input": "2024-07-11T15:16:34.586180Z",
     "iopub.status.busy": "2024-07-11T15:16:34.585815Z",
     "iopub.status.idle": "2024-07-11T15:16:34.614019Z",
     "shell.execute_reply": "2024-07-11T15:16:34.612938Z"
    },
    "papermill": {
     "duration": 0.038477,
     "end_time": "2024-07-11T15:16:34.616517",
     "exception": false,
     "start_time": "2024-07-11T15:16:34.578040",
     "status": "completed"
    },
    "tags": []
   },
   "outputs": [
    {
     "data": {
      "text/html": [
       "<div>\n",
       "<style scoped>\n",
       "    .dataframe tbody tr th:only-of-type {\n",
       "        vertical-align: middle;\n",
       "    }\n",
       "\n",
       "    .dataframe tbody tr th {\n",
       "        vertical-align: top;\n",
       "    }\n",
       "\n",
       "    .dataframe thead th {\n",
       "        text-align: right;\n",
       "    }\n",
       "</style>\n",
       "<table border=\"1\" class=\"dataframe\">\n",
       "  <thead>\n",
       "    <tr style=\"text-align: right;\">\n",
       "      <th></th>\n",
       "      <th>name</th>\n",
       "      <th>year</th>\n",
       "      <th>latitude</th>\n",
       "      <th>longitude</th>\n",
       "      <th>city</th>\n",
       "      <th>region</th>\n",
       "      <th>zipCode</th>\n",
       "      <th>cuisine</th>\n",
       "      <th>price</th>\n",
       "      <th>url</th>\n",
       "    </tr>\n",
       "  </thead>\n",
       "  <tbody>\n",
       "    <tr>\n",
       "      <th>0</th>\n",
       "      <td>Kilian Stuba</td>\n",
       "      <td>2019</td>\n",
       "      <td>47.348580</td>\n",
       "      <td>10.17114</td>\n",
       "      <td>Kleinwalsertal</td>\n",
       "      <td>Austria</td>\n",
       "      <td>87568</td>\n",
       "      <td>Creative</td>\n",
       "      <td>$$$$$</td>\n",
       "      <td>https://guide.michelin.com/at/en/vorarlberg/kl...</td>\n",
       "    </tr>\n",
       "    <tr>\n",
       "      <th>1</th>\n",
       "      <td>Pfefferschiff</td>\n",
       "      <td>2019</td>\n",
       "      <td>47.837870</td>\n",
       "      <td>13.07917</td>\n",
       "      <td>Hallwang</td>\n",
       "      <td>Austria</td>\n",
       "      <td>5300</td>\n",
       "      <td>Classic cuisine</td>\n",
       "      <td>$$$$$</td>\n",
       "      <td>https://guide.michelin.com/at/en/salzburg-regi...</td>\n",
       "    </tr>\n",
       "    <tr>\n",
       "      <th>2</th>\n",
       "      <td>Esszimmer</td>\n",
       "      <td>2019</td>\n",
       "      <td>47.806850</td>\n",
       "      <td>13.03409</td>\n",
       "      <td>Salzburg</td>\n",
       "      <td>Austria</td>\n",
       "      <td>5020</td>\n",
       "      <td>Creative</td>\n",
       "      <td>$$$$$</td>\n",
       "      <td>https://guide.michelin.com/at/en/salzburg-regi...</td>\n",
       "    </tr>\n",
       "    <tr>\n",
       "      <th>3</th>\n",
       "      <td>Carpe Diem</td>\n",
       "      <td>2019</td>\n",
       "      <td>47.800010</td>\n",
       "      <td>13.04006</td>\n",
       "      <td>Salzburg</td>\n",
       "      <td>Austria</td>\n",
       "      <td>5020</td>\n",
       "      <td>Market cuisine</td>\n",
       "      <td>$$$$$</td>\n",
       "      <td>https://guide.michelin.com/at/en/salzburg-regi...</td>\n",
       "    </tr>\n",
       "    <tr>\n",
       "      <th>4</th>\n",
       "      <td>Edvard</td>\n",
       "      <td>2019</td>\n",
       "      <td>48.216503</td>\n",
       "      <td>16.36852</td>\n",
       "      <td>Wien</td>\n",
       "      <td>Austria</td>\n",
       "      <td>1010</td>\n",
       "      <td>Modern cuisine</td>\n",
       "      <td>$$$$</td>\n",
       "      <td>https://guide.michelin.com/at/en/vienna/wien/r...</td>\n",
       "    </tr>\n",
       "  </tbody>\n",
       "</table>\n",
       "</div>"
      ],
      "text/plain": [
       "            name  year   latitude  longitude            city   region zipCode  \\\n",
       "0   Kilian Stuba  2019  47.348580   10.17114  Kleinwalsertal  Austria   87568   \n",
       "1  Pfefferschiff  2019  47.837870   13.07917        Hallwang  Austria    5300   \n",
       "2      Esszimmer  2019  47.806850   13.03409        Salzburg  Austria    5020   \n",
       "3     Carpe Diem  2019  47.800010   13.04006        Salzburg  Austria    5020   \n",
       "4         Edvard  2019  48.216503   16.36852            Wien  Austria    1010   \n",
       "\n",
       "           cuisine  price                                                url  \n",
       "0         Creative  $$$$$  https://guide.michelin.com/at/en/vorarlberg/kl...  \n",
       "1  Classic cuisine  $$$$$  https://guide.michelin.com/at/en/salzburg-regi...  \n",
       "2         Creative  $$$$$  https://guide.michelin.com/at/en/salzburg-regi...  \n",
       "3   Market cuisine  $$$$$  https://guide.michelin.com/at/en/salzburg-regi...  \n",
       "4   Modern cuisine   $$$$  https://guide.michelin.com/at/en/vienna/wien/r...  "
      ]
     },
     "execution_count": 3,
     "metadata": {},
     "output_type": "execute_result"
    }
   ],
   "source": [
    "# Display the first 5 rows of one dataset\n",
    "\n",
    "one_star.head(5)\n"
   ]
  },
  {
   "cell_type": "code",
   "execution_count": 4,
   "id": "9121add3",
   "metadata": {
    "execution": {
     "iopub.execute_input": "2024-07-11T15:16:34.632436Z",
     "iopub.status.busy": "2024-07-11T15:16:34.632033Z",
     "iopub.status.idle": "2024-07-11T15:16:34.657658Z",
     "shell.execute_reply": "2024-07-11T15:16:34.656541Z"
    },
    "papermill": {
     "duration": 0.03636,
     "end_time": "2024-07-11T15:16:34.660231",
     "exception": false,
     "start_time": "2024-07-11T15:16:34.623871",
     "status": "completed"
    },
    "tags": []
   },
   "outputs": [
    {
     "name": "stdout",
     "output_type": "stream",
     "text": [
      "<class 'pandas.core.frame.DataFrame'>\n",
      "RangeIndex: 549 entries, 0 to 548\n",
      "Data columns (total 10 columns):\n",
      " #   Column     Non-Null Count  Dtype  \n",
      "---  ------     --------------  -----  \n",
      " 0   name       549 non-null    object \n",
      " 1   year       549 non-null    int64  \n",
      " 2   latitude   549 non-null    float64\n",
      " 3   longitude  549 non-null    float64\n",
      " 4   city       547 non-null    object \n",
      " 5   region     549 non-null    object \n",
      " 6   zipCode    400 non-null    object \n",
      " 7   cuisine    549 non-null    object \n",
      " 8   price      398 non-null    object \n",
      " 9   url        549 non-null    object \n",
      "dtypes: float64(2), int64(1), object(7)\n",
      "memory usage: 43.0+ KB\n"
     ]
    }
   ],
   "source": [
    "# Info on each dataset\n",
    "\n",
    "one_star.info()"
   ]
  },
  {
   "cell_type": "code",
   "execution_count": 5,
   "id": "971b67a1",
   "metadata": {
    "execution": {
     "iopub.execute_input": "2024-07-11T15:16:34.677012Z",
     "iopub.status.busy": "2024-07-11T15:16:34.676000Z",
     "iopub.status.idle": "2024-07-11T15:16:34.687038Z",
     "shell.execute_reply": "2024-07-11T15:16:34.685991Z"
    },
    "papermill": {
     "duration": 0.021648,
     "end_time": "2024-07-11T15:16:34.689397",
     "exception": false,
     "start_time": "2024-07-11T15:16:34.667749",
     "status": "completed"
    },
    "tags": []
   },
   "outputs": [
    {
     "name": "stdout",
     "output_type": "stream",
     "text": [
      "<class 'pandas.core.frame.DataFrame'>\n",
      "RangeIndex: 110 entries, 0 to 109\n",
      "Data columns (total 10 columns):\n",
      " #   Column     Non-Null Count  Dtype  \n",
      "---  ------     --------------  -----  \n",
      " 0   name       110 non-null    object \n",
      " 1   year       110 non-null    int64  \n",
      " 2   latitude   110 non-null    float64\n",
      " 3   longitude  110 non-null    float64\n",
      " 4   city       110 non-null    object \n",
      " 5   region     110 non-null    object \n",
      " 6   zipCode    77 non-null     object \n",
      " 7   cuisine    110 non-null    object \n",
      " 8   price      90 non-null     object \n",
      " 9   url        110 non-null    object \n",
      "dtypes: float64(2), int64(1), object(7)\n",
      "memory usage: 8.7+ KB\n"
     ]
    }
   ],
   "source": [
    "two_stars.info()"
   ]
  },
  {
   "cell_type": "code",
   "execution_count": 6,
   "id": "ad15a585",
   "metadata": {
    "execution": {
     "iopub.execute_input": "2024-07-11T15:16:34.705081Z",
     "iopub.status.busy": "2024-07-11T15:16:34.704718Z",
     "iopub.status.idle": "2024-07-11T15:16:34.715988Z",
     "shell.execute_reply": "2024-07-11T15:16:34.714849Z"
    },
    "papermill": {
     "duration": 0.022464,
     "end_time": "2024-07-11T15:16:34.718950",
     "exception": false,
     "start_time": "2024-07-11T15:16:34.696486",
     "status": "completed"
    },
    "tags": []
   },
   "outputs": [
    {
     "name": "stdout",
     "output_type": "stream",
     "text": [
      "<class 'pandas.core.frame.DataFrame'>\n",
      "RangeIndex: 36 entries, 0 to 35\n",
      "Data columns (total 10 columns):\n",
      " #   Column     Non-Null Count  Dtype  \n",
      "---  ------     --------------  -----  \n",
      " 0   name       36 non-null     object \n",
      " 1   year       36 non-null     int64  \n",
      " 2   latitude   36 non-null     float64\n",
      " 3   longitude  36 non-null     float64\n",
      " 4   city       36 non-null     object \n",
      " 5   region     36 non-null     object \n",
      " 6   zipCode    24 non-null     object \n",
      " 7   cuisine    36 non-null     object \n",
      " 8   price      31 non-null     object \n",
      " 9   url        36 non-null     object \n",
      "dtypes: float64(2), int64(1), object(7)\n",
      "memory usage: 2.9+ KB\n"
     ]
    }
   ],
   "source": [
    "three_stars.info()"
   ]
  },
  {
   "cell_type": "markdown",
   "id": "dc50e93b",
   "metadata": {
    "papermill": {
     "duration": 0.006733,
     "end_time": "2024-07-11T15:16:34.732883",
     "exception": false,
     "start_time": "2024-07-11T15:16:34.726150",
     "status": "completed"
    },
    "tags": []
   },
   "source": [
    "# **Data Cleaning and Preprocessing**"
   ]
  },
  {
   "cell_type": "code",
   "execution_count": 7,
   "id": "0e730301",
   "metadata": {
    "execution": {
     "iopub.execute_input": "2024-07-11T15:16:34.749136Z",
     "iopub.status.busy": "2024-07-11T15:16:34.748330Z",
     "iopub.status.idle": "2024-07-11T15:16:34.773239Z",
     "shell.execute_reply": "2024-07-11T15:16:34.772238Z"
    },
    "papermill": {
     "duration": 0.03585,
     "end_time": "2024-07-11T15:16:34.775702",
     "exception": false,
     "start_time": "2024-07-11T15:16:34.739852",
     "status": "completed"
    },
    "tags": []
   },
   "outputs": [
    {
     "data": {
      "text/html": [
       "<div>\n",
       "<style scoped>\n",
       "    .dataframe tbody tr th:only-of-type {\n",
       "        vertical-align: middle;\n",
       "    }\n",
       "\n",
       "    .dataframe tbody tr th {\n",
       "        vertical-align: top;\n",
       "    }\n",
       "\n",
       "    .dataframe thead th {\n",
       "        text-align: right;\n",
       "    }\n",
       "</style>\n",
       "<table border=\"1\" class=\"dataframe\">\n",
       "  <thead>\n",
       "    <tr style=\"text-align: right;\">\n",
       "      <th></th>\n",
       "      <th>name</th>\n",
       "      <th>year</th>\n",
       "      <th>latitude</th>\n",
       "      <th>longitude</th>\n",
       "      <th>city</th>\n",
       "      <th>region</th>\n",
       "      <th>zipCode</th>\n",
       "      <th>cuisine</th>\n",
       "      <th>price</th>\n",
       "      <th>url</th>\n",
       "      <th>Michelin stars</th>\n",
       "    </tr>\n",
       "  </thead>\n",
       "  <tbody>\n",
       "    <tr>\n",
       "      <th>0</th>\n",
       "      <td>Kilian Stuba</td>\n",
       "      <td>2019</td>\n",
       "      <td>47.348580</td>\n",
       "      <td>10.171140</td>\n",
       "      <td>Kleinwalsertal</td>\n",
       "      <td>Austria</td>\n",
       "      <td>87568</td>\n",
       "      <td>Creative</td>\n",
       "      <td>$$$$$</td>\n",
       "      <td>https://guide.michelin.com/at/en/vorarlberg/kl...</td>\n",
       "      <td>1</td>\n",
       "    </tr>\n",
       "    <tr>\n",
       "      <th>1</th>\n",
       "      <td>Pfefferschiff</td>\n",
       "      <td>2019</td>\n",
       "      <td>47.837870</td>\n",
       "      <td>13.079170</td>\n",
       "      <td>Hallwang</td>\n",
       "      <td>Austria</td>\n",
       "      <td>5300</td>\n",
       "      <td>Classic cuisine</td>\n",
       "      <td>$$$$$</td>\n",
       "      <td>https://guide.michelin.com/at/en/salzburg-regi...</td>\n",
       "      <td>1</td>\n",
       "    </tr>\n",
       "    <tr>\n",
       "      <th>2</th>\n",
       "      <td>Esszimmer</td>\n",
       "      <td>2019</td>\n",
       "      <td>47.806850</td>\n",
       "      <td>13.034090</td>\n",
       "      <td>Salzburg</td>\n",
       "      <td>Austria</td>\n",
       "      <td>5020</td>\n",
       "      <td>Creative</td>\n",
       "      <td>$$$$$</td>\n",
       "      <td>https://guide.michelin.com/at/en/salzburg-regi...</td>\n",
       "      <td>1</td>\n",
       "    </tr>\n",
       "    <tr>\n",
       "      <th>3</th>\n",
       "      <td>Carpe Diem</td>\n",
       "      <td>2019</td>\n",
       "      <td>47.800010</td>\n",
       "      <td>13.040060</td>\n",
       "      <td>Salzburg</td>\n",
       "      <td>Austria</td>\n",
       "      <td>5020</td>\n",
       "      <td>Market cuisine</td>\n",
       "      <td>$$$$$</td>\n",
       "      <td>https://guide.michelin.com/at/en/salzburg-regi...</td>\n",
       "      <td>1</td>\n",
       "    </tr>\n",
       "    <tr>\n",
       "      <th>4</th>\n",
       "      <td>Edvard</td>\n",
       "      <td>2019</td>\n",
       "      <td>48.216503</td>\n",
       "      <td>16.368520</td>\n",
       "      <td>Wien</td>\n",
       "      <td>Austria</td>\n",
       "      <td>1010</td>\n",
       "      <td>Modern cuisine</td>\n",
       "      <td>$$$$</td>\n",
       "      <td>https://guide.michelin.com/at/en/vienna/wien/r...</td>\n",
       "      <td>1</td>\n",
       "    </tr>\n",
       "    <tr>\n",
       "      <th>...</th>\n",
       "      <td>...</td>\n",
       "      <td>...</td>\n",
       "      <td>...</td>\n",
       "      <td>...</td>\n",
       "      <td>...</td>\n",
       "      <td>...</td>\n",
       "      <td>...</td>\n",
       "      <td>...</td>\n",
       "      <td>...</td>\n",
       "      <td>...</td>\n",
       "      <td>...</td>\n",
       "    </tr>\n",
       "    <tr>\n",
       "      <th>31</th>\n",
       "      <td>Fat Duck</td>\n",
       "      <td>2019</td>\n",
       "      <td>51.508280</td>\n",
       "      <td>-0.702320</td>\n",
       "      <td>Bray</td>\n",
       "      <td>United Kingdom</td>\n",
       "      <td>SL6 2AQ</td>\n",
       "      <td>Creative</td>\n",
       "      <td>NaN</td>\n",
       "      <td>https://guide.michelin.com/gb/en/buckinghamshi...</td>\n",
       "      <td>3</td>\n",
       "    </tr>\n",
       "    <tr>\n",
       "      <th>32</th>\n",
       "      <td>Waterside Inn</td>\n",
       "      <td>2019</td>\n",
       "      <td>51.507730</td>\n",
       "      <td>-0.701210</td>\n",
       "      <td>Bray</td>\n",
       "      <td>United Kingdom</td>\n",
       "      <td>SL6 2AT</td>\n",
       "      <td>Classic French</td>\n",
       "      <td>NaN</td>\n",
       "      <td>https://guide.michelin.com/gb/en/buckinghamshi...</td>\n",
       "      <td>3</td>\n",
       "    </tr>\n",
       "    <tr>\n",
       "      <th>33</th>\n",
       "      <td>Alain Ducasse at The Dorchester</td>\n",
       "      <td>2019</td>\n",
       "      <td>51.507120</td>\n",
       "      <td>-0.152520</td>\n",
       "      <td>Mayfair</td>\n",
       "      <td>United Kingdom</td>\n",
       "      <td>W1K 1QA</td>\n",
       "      <td>French</td>\n",
       "      <td>NaN</td>\n",
       "      <td>https://guide.michelin.com/gb/en/greater-londo...</td>\n",
       "      <td>3</td>\n",
       "    </tr>\n",
       "    <tr>\n",
       "      <th>34</th>\n",
       "      <td>The Araki</td>\n",
       "      <td>2019</td>\n",
       "      <td>51.511826</td>\n",
       "      <td>-0.140389</td>\n",
       "      <td>Mayfair</td>\n",
       "      <td>United Kingdom</td>\n",
       "      <td>W1S 3BF</td>\n",
       "      <td>Japanese</td>\n",
       "      <td>NaN</td>\n",
       "      <td>https://guide.michelin.com/gb/en/greater-londo...</td>\n",
       "      <td>3</td>\n",
       "    </tr>\n",
       "    <tr>\n",
       "      <th>35</th>\n",
       "      <td>Gordon Ramsay</td>\n",
       "      <td>2019</td>\n",
       "      <td>51.485460</td>\n",
       "      <td>-0.162020</td>\n",
       "      <td>Chelsea</td>\n",
       "      <td>United Kingdom</td>\n",
       "      <td>SW3 4HP</td>\n",
       "      <td>French</td>\n",
       "      <td>NaN</td>\n",
       "      <td>https://guide.michelin.com/gb/en/greater-londo...</td>\n",
       "      <td>3</td>\n",
       "    </tr>\n",
       "  </tbody>\n",
       "</table>\n",
       "<p>695 rows × 11 columns</p>\n",
       "</div>"
      ],
      "text/plain": [
       "                               name  year   latitude  longitude  \\\n",
       "0                      Kilian Stuba  2019  47.348580  10.171140   \n",
       "1                     Pfefferschiff  2019  47.837870  13.079170   \n",
       "2                         Esszimmer  2019  47.806850  13.034090   \n",
       "3                        Carpe Diem  2019  47.800010  13.040060   \n",
       "4                            Edvard  2019  48.216503  16.368520   \n",
       "..                              ...   ...        ...        ...   \n",
       "31                         Fat Duck  2019  51.508280  -0.702320   \n",
       "32                    Waterside Inn  2019  51.507730  -0.701210   \n",
       "33  Alain Ducasse at The Dorchester  2019  51.507120  -0.152520   \n",
       "34                        The Araki  2019  51.511826  -0.140389   \n",
       "35                    Gordon Ramsay  2019  51.485460  -0.162020   \n",
       "\n",
       "              city          region  zipCode          cuisine  price  \\\n",
       "0   Kleinwalsertal         Austria    87568         Creative  $$$$$   \n",
       "1         Hallwang         Austria     5300  Classic cuisine  $$$$$   \n",
       "2         Salzburg         Austria     5020         Creative  $$$$$   \n",
       "3         Salzburg         Austria     5020   Market cuisine  $$$$$   \n",
       "4             Wien         Austria     1010   Modern cuisine   $$$$   \n",
       "..             ...             ...      ...              ...    ...   \n",
       "31            Bray  United Kingdom  SL6 2AQ         Creative    NaN   \n",
       "32            Bray  United Kingdom  SL6 2AT   Classic French    NaN   \n",
       "33         Mayfair  United Kingdom  W1K 1QA           French    NaN   \n",
       "34         Mayfair  United Kingdom  W1S 3BF         Japanese    NaN   \n",
       "35         Chelsea  United Kingdom  SW3 4HP           French    NaN   \n",
       "\n",
       "                                                  url  Michelin stars  \n",
       "0   https://guide.michelin.com/at/en/vorarlberg/kl...               1  \n",
       "1   https://guide.michelin.com/at/en/salzburg-regi...               1  \n",
       "2   https://guide.michelin.com/at/en/salzburg-regi...               1  \n",
       "3   https://guide.michelin.com/at/en/salzburg-regi...               1  \n",
       "4   https://guide.michelin.com/at/en/vienna/wien/r...               1  \n",
       "..                                                ...             ...  \n",
       "31  https://guide.michelin.com/gb/en/buckinghamshi...               3  \n",
       "32  https://guide.michelin.com/gb/en/buckinghamshi...               3  \n",
       "33  https://guide.michelin.com/gb/en/greater-londo...               3  \n",
       "34  https://guide.michelin.com/gb/en/greater-londo...               3  \n",
       "35  https://guide.michelin.com/gb/en/greater-londo...               3  \n",
       "\n",
       "[695 rows x 11 columns]"
      ]
     },
     "execution_count": 7,
     "metadata": {},
     "output_type": "execute_result"
    }
   ],
   "source": [
    "# Add a new Michelin stars Classification Column\n",
    "\n",
    "one_star['Michelin stars'] = 1\n",
    "two_stars['Michelin stars'] = 2\n",
    "three_stars['Michelin stars'] = 3\n",
    "\n",
    "# Join the three tables for an easier data analysis\n",
    "\n",
    "michelin_stars = pd.concat([one_star,two_stars,three_stars],axis=0)\n",
    "michelin_stars"
   ]
  },
  {
   "cell_type": "code",
   "execution_count": 8,
   "id": "aafdc514",
   "metadata": {
    "execution": {
     "iopub.execute_input": "2024-07-11T15:16:34.792792Z",
     "iopub.status.busy": "2024-07-11T15:16:34.792411Z",
     "iopub.status.idle": "2024-07-11T15:16:34.804603Z",
     "shell.execute_reply": "2024-07-11T15:16:34.803399Z"
    },
    "papermill": {
     "duration": 0.02333,
     "end_time": "2024-07-11T15:16:34.807068",
     "exception": false,
     "start_time": "2024-07-11T15:16:34.783738",
     "status": "completed"
    },
    "tags": []
   },
   "outputs": [
    {
     "name": "stdout",
     "output_type": "stream",
     "text": [
      "<class 'pandas.core.frame.DataFrame'>\n",
      "Index: 695 entries, 0 to 35\n",
      "Data columns (total 11 columns):\n",
      " #   Column          Non-Null Count  Dtype  \n",
      "---  ------          --------------  -----  \n",
      " 0   name            695 non-null    object \n",
      " 1   year            695 non-null    int64  \n",
      " 2   latitude        695 non-null    float64\n",
      " 3   longitude       695 non-null    float64\n",
      " 4   city            693 non-null    object \n",
      " 5   region          695 non-null    object \n",
      " 6   zipCode         501 non-null    object \n",
      " 7   cuisine         695 non-null    object \n",
      " 8   price           519 non-null    object \n",
      " 9   url             695 non-null    object \n",
      " 10  Michelin stars  695 non-null    int64  \n",
      "dtypes: float64(2), int64(2), object(7)\n",
      "memory usage: 65.2+ KB\n"
     ]
    }
   ],
   "source": [
    "michelin_stars.info()"
   ]
  },
  {
   "cell_type": "code",
   "execution_count": 9,
   "id": "abe13ffb",
   "metadata": {
    "execution": {
     "iopub.execute_input": "2024-07-11T15:16:34.824356Z",
     "iopub.status.busy": "2024-07-11T15:16:34.823872Z",
     "iopub.status.idle": "2024-07-11T15:16:34.830820Z",
     "shell.execute_reply": "2024-07-11T15:16:34.829648Z"
    },
    "papermill": {
     "duration": 0.018611,
     "end_time": "2024-07-11T15:16:34.833269",
     "exception": false,
     "start_time": "2024-07-11T15:16:34.814658",
     "status": "completed"
    },
    "tags": []
   },
   "outputs": [],
   "source": [
    "#Drop columns\n",
    "\n",
    "#Some columns were omitted, such as ‘url’ and ’zipCode’ because of their low relevance for this analysis\n",
    "\n",
    "michelin_stars = michelin_stars.drop(columns=['url','zipCode'])"
   ]
  },
  {
   "cell_type": "code",
   "execution_count": 10,
   "id": "3c857755",
   "metadata": {
    "execution": {
     "iopub.execute_input": "2024-07-11T15:16:34.850744Z",
     "iopub.status.busy": "2024-07-11T15:16:34.849817Z",
     "iopub.status.idle": "2024-07-11T15:16:34.864552Z",
     "shell.execute_reply": "2024-07-11T15:16:34.863220Z"
    },
    "papermill": {
     "duration": 0.026223,
     "end_time": "2024-07-11T15:16:34.867251",
     "exception": false,
     "start_time": "2024-07-11T15:16:34.841028",
     "status": "completed"
    },
    "tags": []
   },
   "outputs": [
    {
     "data": {
      "text/html": [
       "<div>\n",
       "<style scoped>\n",
       "    .dataframe tbody tr th:only-of-type {\n",
       "        vertical-align: middle;\n",
       "    }\n",
       "\n",
       "    .dataframe tbody tr th {\n",
       "        vertical-align: top;\n",
       "    }\n",
       "\n",
       "    .dataframe thead th {\n",
       "        text-align: right;\n",
       "    }\n",
       "</style>\n",
       "<table border=\"1\" class=\"dataframe\">\n",
       "  <thead>\n",
       "    <tr style=\"text-align: right;\">\n",
       "      <th></th>\n",
       "      <th>name</th>\n",
       "      <th>year</th>\n",
       "      <th>latitude</th>\n",
       "      <th>longitude</th>\n",
       "      <th>city</th>\n",
       "      <th>region</th>\n",
       "      <th>cuisine</th>\n",
       "      <th>price</th>\n",
       "      <th>Michelin stars</th>\n",
       "    </tr>\n",
       "  </thead>\n",
       "  <tbody>\n",
       "  </tbody>\n",
       "</table>\n",
       "</div>"
      ],
      "text/plain": [
       "Empty DataFrame\n",
       "Columns: [name, year, latitude, longitude, city, region, cuisine, price, Michelin stars]\n",
       "Index: []"
      ]
     },
     "execution_count": 10,
     "metadata": {},
     "output_type": "execute_result"
    }
   ],
   "source": [
    "#Duplicates\n",
    "\n",
    "duplicates_stars = michelin_stars[michelin_stars.duplicated()].copy()\n",
    "duplicates_stars"
   ]
  },
  {
   "cell_type": "code",
   "execution_count": 11,
   "id": "a4ae3b3b",
   "metadata": {
    "execution": {
     "iopub.execute_input": "2024-07-11T15:16:34.885417Z",
     "iopub.status.busy": "2024-07-11T15:16:34.883910Z",
     "iopub.status.idle": "2024-07-11T15:16:34.893793Z",
     "shell.execute_reply": "2024-07-11T15:16:34.892710Z"
    },
    "papermill": {
     "duration": 0.021398,
     "end_time": "2024-07-11T15:16:34.896374",
     "exception": false,
     "start_time": "2024-07-11T15:16:34.874976",
     "status": "completed"
    },
    "tags": []
   },
   "outputs": [
    {
     "data": {
      "text/plain": [
       "name                0\n",
       "year                0\n",
       "latitude            0\n",
       "longitude           0\n",
       "city                2\n",
       "region              0\n",
       "cuisine             0\n",
       "price             176\n",
       "Michelin stars      0\n",
       "dtype: int64"
      ]
     },
     "execution_count": 11,
     "metadata": {},
     "output_type": "execute_result"
    }
   ],
   "source": [
    "#Missing values\n",
    "\n",
    "michelin_stars.isna().sum()"
   ]
  },
  {
   "cell_type": "code",
   "execution_count": 12,
   "id": "9c94e35b",
   "metadata": {
    "execution": {
     "iopub.execute_input": "2024-07-11T15:16:34.914302Z",
     "iopub.status.busy": "2024-07-11T15:16:34.913839Z",
     "iopub.status.idle": "2024-07-11T15:16:34.920367Z",
     "shell.execute_reply": "2024-07-11T15:16:34.918958Z"
    },
    "papermill": {
     "duration": 0.018029,
     "end_time": "2024-07-11T15:16:34.922789",
     "exception": false,
     "start_time": "2024-07-11T15:16:34.904760",
     "status": "completed"
    },
    "tags": []
   },
   "outputs": [
    {
     "name": "stdout",
     "output_type": "stream",
     "text": [
      "['$$$$$' '$$$$' '$$$' '$$' '$' nan]\n"
     ]
    }
   ],
   "source": [
    "print(michelin_stars['price'].unique())"
   ]
  },
  {
   "cell_type": "code",
   "execution_count": 13,
   "id": "952aa8b7",
   "metadata": {
    "execution": {
     "iopub.execute_input": "2024-07-11T15:16:34.941006Z",
     "iopub.status.busy": "2024-07-11T15:16:34.939937Z",
     "iopub.status.idle": "2024-07-11T15:16:34.948214Z",
     "shell.execute_reply": "2024-07-11T15:16:34.947041Z"
    },
    "papermill": {
     "duration": 0.020196,
     "end_time": "2024-07-11T15:16:34.951052",
     "exception": false,
     "start_time": "2024-07-11T15:16:34.930856",
     "status": "completed"
    },
    "tags": []
   },
   "outputs": [
    {
     "name": "stdout",
     "output_type": "stream",
     "text": [
      "['$$$$$' '$$$$' '$$$' '$$' '$' '']\n"
     ]
    },
    {
     "name": "stderr",
     "output_type": "stream",
     "text": [
      "/tmp/ipykernel_18/3430188342.py:3: FutureWarning: A value is trying to be set on a copy of a DataFrame or Series through chained assignment using an inplace method.\n",
      "The behavior will change in pandas 3.0. This inplace method will never work because the intermediate object on which we are setting values always behaves as a copy.\n",
      "\n",
      "For example, when doing 'df[col].method(value, inplace=True)', try using 'df.method({col: value}, inplace=True)' or df[col] = df[col].method(value) instead, to perform the operation inplace on the original object.\n",
      "\n",
      "\n",
      "  michelin_stars['price'].fillna('', inplace=True)\n"
     ]
    }
   ],
   "source": [
    "#Handling missing values (NaN values) on the 'price' column\n",
    " \n",
    "michelin_stars['price'].fillna('', inplace=True)\n",
    "print(michelin_stars['price'].unique())"
   ]
  },
  {
   "cell_type": "code",
   "execution_count": 14,
   "id": "d8348caf",
   "metadata": {
    "execution": {
     "iopub.execute_input": "2024-07-11T15:16:34.969587Z",
     "iopub.status.busy": "2024-07-11T15:16:34.968564Z",
     "iopub.status.idle": "2024-07-11T15:16:34.979328Z",
     "shell.execute_reply": "2024-07-11T15:16:34.978147Z"
    },
    "papermill": {
     "duration": 0.023093,
     "end_time": "2024-07-11T15:16:34.982202",
     "exception": false,
     "start_time": "2024-07-11T15:16:34.959109",
     "status": "completed"
    },
    "tags": []
   },
   "outputs": [
    {
     "name": "stdout",
     "output_type": "stream",
     "text": [
      "      name  year   latitude   longitude city     region     cuisine price  \\\n",
      "152  Épure  2019  22.295830  114.169304  NaN  Hong Kong      French   $$$   \n",
      "166  Arbor  2019  22.283146  114.155420  NaN  Hong Kong  Innovative   $$$   \n",
      "\n",
      "     Michelin stars  \n",
      "152               1  \n",
      "166               1  \n"
     ]
    }
   ],
   "source": [
    "# Locate missing values in the 'city' column\n",
    "missing_values = michelin_stars[michelin_stars['city'].isna()]\n",
    "\n",
    "# Display the rows with missing values\n",
    "print(missing_values)"
   ]
  },
  {
   "cell_type": "code",
   "execution_count": 15,
   "id": "5c39a4ce",
   "metadata": {
    "execution": {
     "iopub.execute_input": "2024-07-11T15:16:35.000535Z",
     "iopub.status.busy": "2024-07-11T15:16:35.000097Z",
     "iopub.status.idle": "2024-07-11T15:16:35.008722Z",
     "shell.execute_reply": "2024-07-11T15:16:35.007579Z"
    },
    "papermill": {
     "duration": 0.022182,
     "end_time": "2024-07-11T15:16:35.012853",
     "exception": false,
     "start_time": "2024-07-11T15:16:34.990671",
     "status": "completed"
    },
    "tags": []
   },
   "outputs": [
    {
     "name": "stdout",
     "output_type": "stream",
     "text": [
      "Empty DataFrame\n",
      "Columns: [name, year, latitude, longitude, city, region, cuisine, price, Michelin stars]\n",
      "Index: []\n"
     ]
    },
    {
     "name": "stderr",
     "output_type": "stream",
     "text": [
      "/tmp/ipykernel_18/1127807254.py:3: FutureWarning: A value is trying to be set on a copy of a DataFrame or Series through chained assignment using an inplace method.\n",
      "The behavior will change in pandas 3.0. This inplace method will never work because the intermediate object on which we are setting values always behaves as a copy.\n",
      "\n",
      "For example, when doing 'df[col].method(value, inplace=True)', try using 'df.method({col: value}, inplace=True)' or df[col] = df[col].method(value) instead, to perform the operation inplace on the original object.\n",
      "\n",
      "\n",
      "  michelin_stars['city'].fillna('', inplace=True)\n"
     ]
    }
   ],
   "source": [
    "#Handling missing values (NaN values) on the 'city' column  \n",
    "\n",
    "michelin_stars['city'].fillna('', inplace=True)\n",
    "missing_values = michelin_stars[michelin_stars['city'].isna()]\n",
    "print(missing_values)"
   ]
  },
  {
   "cell_type": "code",
   "execution_count": 16,
   "id": "4da8008f",
   "metadata": {
    "execution": {
     "iopub.execute_input": "2024-07-11T15:16:35.031270Z",
     "iopub.status.busy": "2024-07-11T15:16:35.030868Z",
     "iopub.status.idle": "2024-07-11T15:16:35.040058Z",
     "shell.execute_reply": "2024-07-11T15:16:35.039008Z"
    },
    "papermill": {
     "duration": 0.02152,
     "end_time": "2024-07-11T15:16:35.042619",
     "exception": false,
     "start_time": "2024-07-11T15:16:35.021099",
     "status": "completed"
    },
    "tags": []
   },
   "outputs": [
    {
     "data": {
      "text/plain": [
       "name              0\n",
       "year              0\n",
       "latitude          0\n",
       "longitude         0\n",
       "city              0\n",
       "region            0\n",
       "cuisine           0\n",
       "price             0\n",
       "Michelin stars    0\n",
       "dtype: int64"
      ]
     },
     "execution_count": 16,
     "metadata": {},
     "output_type": "execute_result"
    }
   ],
   "source": [
    "#Confirming there is no missing values\n",
    "michelin_stars.isna().sum()"
   ]
  },
  {
   "cell_type": "markdown",
   "id": "fc53d388",
   "metadata": {
    "papermill": {
     "duration": 0.008023,
     "end_time": "2024-07-11T15:16:35.059073",
     "exception": false,
     "start_time": "2024-07-11T15:16:35.051050",
     "status": "completed"
    },
    "tags": []
   },
   "source": [
    "# **Summary Statistics**"
   ]
  },
  {
   "cell_type": "code",
   "execution_count": 17,
   "id": "7f4c9623",
   "metadata": {
    "execution": {
     "iopub.execute_input": "2024-07-11T15:16:35.078068Z",
     "iopub.status.busy": "2024-07-11T15:16:35.077287Z",
     "iopub.status.idle": "2024-07-11T15:16:35.112565Z",
     "shell.execute_reply": "2024-07-11T15:16:35.111330Z"
    },
    "papermill": {
     "duration": 0.047612,
     "end_time": "2024-07-11T15:16:35.115147",
     "exception": false,
     "start_time": "2024-07-11T15:16:35.067535",
     "status": "completed"
    },
    "tags": []
   },
   "outputs": [
    {
     "data": {
      "text/html": [
       "<div>\n",
       "<style scoped>\n",
       "    .dataframe tbody tr th:only-of-type {\n",
       "        vertical-align: middle;\n",
       "    }\n",
       "\n",
       "    .dataframe tbody tr th {\n",
       "        vertical-align: top;\n",
       "    }\n",
       "\n",
       "    .dataframe thead th {\n",
       "        text-align: right;\n",
       "    }\n",
       "</style>\n",
       "<table border=\"1\" class=\"dataframe\">\n",
       "  <thead>\n",
       "    <tr style=\"text-align: right;\">\n",
       "      <th></th>\n",
       "      <th>name</th>\n",
       "      <th>year</th>\n",
       "      <th>latitude</th>\n",
       "      <th>longitude</th>\n",
       "      <th>city</th>\n",
       "      <th>region</th>\n",
       "      <th>cuisine</th>\n",
       "      <th>price</th>\n",
       "      <th>Michelin stars</th>\n",
       "    </tr>\n",
       "  </thead>\n",
       "  <tbody>\n",
       "    <tr>\n",
       "      <th>count</th>\n",
       "      <td>695</td>\n",
       "      <td>695.000000</td>\n",
       "      <td>695.000000</td>\n",
       "      <td>695.000000</td>\n",
       "      <td>695</td>\n",
       "      <td>695</td>\n",
       "      <td>695</td>\n",
       "      <td>695</td>\n",
       "      <td>695.000000</td>\n",
       "    </tr>\n",
       "    <tr>\n",
       "      <th>unique</th>\n",
       "      <td>684</td>\n",
       "      <td>NaN</td>\n",
       "      <td>NaN</td>\n",
       "      <td>NaN</td>\n",
       "      <td>180</td>\n",
       "      <td>24</td>\n",
       "      <td>70</td>\n",
       "      <td>6</td>\n",
       "      <td>NaN</td>\n",
       "    </tr>\n",
       "    <tr>\n",
       "      <th>top</th>\n",
       "      <td>L'Atelier de Joël Robuchon</td>\n",
       "      <td>NaN</td>\n",
       "      <td>NaN</td>\n",
       "      <td>NaN</td>\n",
       "      <td>New York</td>\n",
       "      <td>United Kingdom</td>\n",
       "      <td>Modern cuisine</td>\n",
       "      <td>$$$$</td>\n",
       "      <td>NaN</td>\n",
       "    </tr>\n",
       "    <tr>\n",
       "      <th>freq</th>\n",
       "      <td>3</td>\n",
       "      <td>NaN</td>\n",
       "      <td>NaN</td>\n",
       "      <td>NaN</td>\n",
       "      <td>74</td>\n",
       "      <td>162</td>\n",
       "      <td>108</td>\n",
       "      <td>197</td>\n",
       "      <td>NaN</td>\n",
       "    </tr>\n",
       "    <tr>\n",
       "      <th>mean</th>\n",
       "      <td>NaN</td>\n",
       "      <td>2018.943885</td>\n",
       "      <td>37.260124</td>\n",
       "      <td>4.417000</td>\n",
       "      <td>NaN</td>\n",
       "      <td>NaN</td>\n",
       "      <td>NaN</td>\n",
       "      <td>NaN</td>\n",
       "      <td>1.261871</td>\n",
       "    </tr>\n",
       "    <tr>\n",
       "      <th>std</th>\n",
       "      <td>NaN</td>\n",
       "      <td>0.230310</td>\n",
       "      <td>18.025875</td>\n",
       "      <td>81.095189</td>\n",
       "      <td>NaN</td>\n",
       "      <td>NaN</td>\n",
       "      <td>NaN</td>\n",
       "      <td>NaN</td>\n",
       "      <td>0.545270</td>\n",
       "    </tr>\n",
       "    <tr>\n",
       "      <th>min</th>\n",
       "      <td>NaN</td>\n",
       "      <td>2018.000000</td>\n",
       "      <td>-23.634005</td>\n",
       "      <td>-123.719444</td>\n",
       "      <td>NaN</td>\n",
       "      <td>NaN</td>\n",
       "      <td>NaN</td>\n",
       "      <td>NaN</td>\n",
       "      <td>1.000000</td>\n",
       "    </tr>\n",
       "    <tr>\n",
       "      <th>25%</th>\n",
       "      <td>NaN</td>\n",
       "      <td>2019.000000</td>\n",
       "      <td>25.040718</td>\n",
       "      <td>-73.982920</td>\n",
       "      <td>NaN</td>\n",
       "      <td>NaN</td>\n",
       "      <td>NaN</td>\n",
       "      <td>NaN</td>\n",
       "      <td>1.000000</td>\n",
       "    </tr>\n",
       "    <tr>\n",
       "      <th>50%</th>\n",
       "      <td>NaN</td>\n",
       "      <td>2019.000000</td>\n",
       "      <td>40.727130</td>\n",
       "      <td>-0.149570</td>\n",
       "      <td>NaN</td>\n",
       "      <td>NaN</td>\n",
       "      <td>NaN</td>\n",
       "      <td>NaN</td>\n",
       "      <td>1.000000</td>\n",
       "    </tr>\n",
       "    <tr>\n",
       "      <th>75%</th>\n",
       "      <td>NaN</td>\n",
       "      <td>2019.000000</td>\n",
       "      <td>51.508962</td>\n",
       "      <td>100.578855</td>\n",
       "      <td>NaN</td>\n",
       "      <td>NaN</td>\n",
       "      <td>NaN</td>\n",
       "      <td>NaN</td>\n",
       "      <td>1.000000</td>\n",
       "    </tr>\n",
       "    <tr>\n",
       "      <th>max</th>\n",
       "      <td>NaN</td>\n",
       "      <td>2019.000000</td>\n",
       "      <td>63.436260</td>\n",
       "      <td>127.102570</td>\n",
       "      <td>NaN</td>\n",
       "      <td>NaN</td>\n",
       "      <td>NaN</td>\n",
       "      <td>NaN</td>\n",
       "      <td>3.000000</td>\n",
       "    </tr>\n",
       "  </tbody>\n",
       "</table>\n",
       "</div>"
      ],
      "text/plain": [
       "                              name         year    latitude   longitude  \\\n",
       "count                          695   695.000000  695.000000  695.000000   \n",
       "unique                         684          NaN         NaN         NaN   \n",
       "top     L'Atelier de Joël Robuchon          NaN         NaN         NaN   \n",
       "freq                             3          NaN         NaN         NaN   \n",
       "mean                           NaN  2018.943885   37.260124    4.417000   \n",
       "std                            NaN     0.230310   18.025875   81.095189   \n",
       "min                            NaN  2018.000000  -23.634005 -123.719444   \n",
       "25%                            NaN  2019.000000   25.040718  -73.982920   \n",
       "50%                            NaN  2019.000000   40.727130   -0.149570   \n",
       "75%                            NaN  2019.000000   51.508962  100.578855   \n",
       "max                            NaN  2019.000000   63.436260  127.102570   \n",
       "\n",
       "            city          region         cuisine price  Michelin stars  \n",
       "count        695             695             695   695      695.000000  \n",
       "unique       180              24              70     6             NaN  \n",
       "top     New York  United Kingdom  Modern cuisine  $$$$             NaN  \n",
       "freq          74             162             108   197             NaN  \n",
       "mean         NaN             NaN             NaN   NaN        1.261871  \n",
       "std          NaN             NaN             NaN   NaN        0.545270  \n",
       "min          NaN             NaN             NaN   NaN        1.000000  \n",
       "25%          NaN             NaN             NaN   NaN        1.000000  \n",
       "50%          NaN             NaN             NaN   NaN        1.000000  \n",
       "75%          NaN             NaN             NaN   NaN        1.000000  \n",
       "max          NaN             NaN             NaN   NaN        3.000000  "
      ]
     },
     "execution_count": 17,
     "metadata": {},
     "output_type": "execute_result"
    }
   ],
   "source": [
    "#Statistics\n",
    "michelin_stars.describe(include='all',)"
   ]
  },
  {
   "cell_type": "markdown",
   "id": "a2cc2c32",
   "metadata": {
    "papermill": {
     "duration": 0.008518,
     "end_time": "2024-07-11T15:16:35.132378",
     "exception": false,
     "start_time": "2024-07-11T15:16:35.123860",
     "status": "completed"
    },
    "tags": []
   },
   "source": [
    "# **Data Visualization**"
   ]
  },
  {
   "cell_type": "code",
   "execution_count": 18,
   "id": "edd0b9fc",
   "metadata": {
    "execution": {
     "iopub.execute_input": "2024-07-11T15:16:35.152547Z",
     "iopub.status.busy": "2024-07-11T15:16:35.151448Z",
     "iopub.status.idle": "2024-07-11T15:16:35.161308Z",
     "shell.execute_reply": "2024-07-11T15:16:35.160123Z"
    },
    "papermill": {
     "duration": 0.022606,
     "end_time": "2024-07-11T15:16:35.163653",
     "exception": false,
     "start_time": "2024-07-11T15:16:35.141047",
     "status": "completed"
    },
    "tags": []
   },
   "outputs": [
    {
     "name": "stdout",
     "output_type": "stream",
     "text": [
      "price_group\n",
      "Very Expensive    197\n",
      "Unknown           176\n",
      "Expensive         143\n",
      "Moderate           75\n",
      "Luxury             73\n",
      "Inexpensive        31\n",
      "Name: count, dtype: int64\n"
     ]
    }
   ],
   "source": [
    "#function def, categorize into 5 different groups(Inexpensive, Moderate, Expensive, Very Expensive, Luxury)\n",
    "\n",
    "def price_group(price_symbol):\n",
    "    return ('Inexpensive' if price_symbol == '$' \n",
    "            else 'Moderate' if price_symbol == '$$' \n",
    "            else 'Expensive' if price_symbol == '$$$' \n",
    "            else 'Very Expensive' if price_symbol == '$$$$' \n",
    "            else 'Luxury' if price_symbol == '$$$$$' \n",
    "            else 'Unknown')\n",
    "\n",
    "michelin_stars['price_group'] = michelin_stars['price'].apply(price_group)\n",
    "\n",
    "price_group_counts = michelin_stars['price_group'].value_counts()\n",
    "\n",
    "print(price_group_counts)"
   ]
  },
  {
   "cell_type": "code",
   "execution_count": 19,
   "id": "c058888c",
   "metadata": {
    "execution": {
     "iopub.execute_input": "2024-07-11T15:16:35.183509Z",
     "iopub.status.busy": "2024-07-11T15:16:35.183066Z",
     "iopub.status.idle": "2024-07-11T15:16:35.554515Z",
     "shell.execute_reply": "2024-07-11T15:16:35.553201Z"
    },
    "papermill": {
     "duration": 0.38426,
     "end_time": "2024-07-11T15:16:35.557021",
     "exception": false,
     "start_time": "2024-07-11T15:16:35.172761",
     "status": "completed"
    },
    "tags": []
   },
   "outputs": [
    {
     "data": {
      "image/png": "[encoded data removed]",
      "text/plain": [
       "<Figure size 640x480 with 1 Axes>"
      ]
     },
     "metadata": {},
     "output_type": "display_data"
    }
   ],
   "source": [
    "# Plot a horizontal bar chart for a better reading\n",
    "\n",
    "price_group_counts.sort_values().plot.barh()\n",
    "plt.title('Distribution of Price Range')\n",
    "plt.xlabel('Count')\n",
    "plt.ylabel('Price Group')\n",
    "plt.show()"
   ]
  },
  {
   "cell_type": "code",
   "execution_count": 20,
   "id": "ff565e8a",
   "metadata": {
    "execution": {
     "iopub.execute_input": "2024-07-11T15:16:35.577500Z",
     "iopub.status.busy": "2024-07-11T15:16:35.577099Z",
     "iopub.status.idle": "2024-07-11T15:16:35.826549Z",
     "shell.execute_reply": "2024-07-11T15:16:35.825274Z"
    },
    "papermill": {
     "duration": 0.262902,
     "end_time": "2024-07-11T15:16:35.829137",
     "exception": false,
     "start_time": "2024-07-11T15:16:35.566235",
     "status": "completed"
    },
    "tags": []
   },
   "outputs": [
    {
     "data": {
      "image/png": "[encoded data removed]",
      "text/plain": [
       "<Figure size 1000x600 with 1 Axes>"
      ]
     },
     "metadata": {},
     "output_type": "display_data"
    }
   ],
   "source": [
    "michelin_stars['Michelin stars'].plot(kind='box', figsize=(10, 6))\n",
    "plt.ylabel('Stars')\n",
    "plt.title('Box Plot of Count')\n",
    "plt.show()"
   ]
  },
  {
   "cell_type": "code",
   "execution_count": 21,
   "id": "1048fecd",
   "metadata": {
    "execution": {
     "iopub.execute_input": "2024-07-11T15:16:35.850756Z",
     "iopub.status.busy": "2024-07-11T15:16:35.849885Z",
     "iopub.status.idle": "2024-07-11T15:16:36.048270Z",
     "shell.execute_reply": "2024-07-11T15:16:36.047105Z"
    },
    "papermill": {
     "duration": 0.211941,
     "end_time": "2024-07-11T15:16:36.050794",
     "exception": false,
     "start_time": "2024-07-11T15:16:35.838853",
     "status": "completed"
    },
    "tags": []
   },
   "outputs": [
    {
     "data": {
      "image/png": "[encoded data removed]",
      "text/plain": [
       "<Figure size 1000x600 with 1 Axes>"
      ]
     },
     "metadata": {},
     "output_type": "display_data"
    }
   ],
   "source": [
    "star_counts = michelin_stars['Michelin stars'].value_counts()\n",
    "\n",
    "# Plot the bar chart\n",
    "star_counts.plot(kind='bar', figsize=(10, 6), color='skyblue')\n",
    "plt.xlabel('Michelin Stars')\n",
    "plt.ylabel('Number of Restaurants')\n",
    "plt.title('Distribution of Michelin Stars')\n",
    "plt.xticks(rotation=0)  # Rotate x-axis labels for better readability\n",
    "plt.show()"
   ]
  },
  {
   "cell_type": "code",
   "execution_count": 22,
   "id": "887c13bf",
   "metadata": {
    "execution": {
     "iopub.execute_input": "2024-07-11T15:16:36.072923Z",
     "iopub.status.busy": "2024-07-11T15:16:36.072528Z",
     "iopub.status.idle": "2024-07-11T15:16:36.263328Z",
     "shell.execute_reply": "2024-07-11T15:16:36.262041Z"
    },
    "papermill": {
     "duration": 0.20598,
     "end_time": "2024-07-11T15:16:36.266927",
     "exception": false,
     "start_time": "2024-07-11T15:16:36.060947",
     "status": "completed"
    },
    "tags": []
   },
   "outputs": [
    {
     "data": {
      "image/png": "[encoded data removed]",
      "text/plain": [
       "<Figure size 800x800 with 1 Axes>"
      ]
     },
     "metadata": {},
     "output_type": "display_data"
    }
   ],
   "source": [
    "#michelin_stars['Michelin stars'].value_counts().plot(kind='pie');\n",
    "\n",
    "star_counts = michelin_stars['Michelin stars'].value_counts()\n",
    "\n",
    "# Plot the pie chart\n",
    "ax = star_counts.plot(kind='pie', autopct='%1.1f%%', startangle=140, figsize=(8, 8))\n",
    "plt.ylabel('')  # Hide the y-label\n",
    "plt.title('Distribution of Michelin Stars')\n",
    "plt.legend(title='Michelin Stars', loc='upper right')\n",
    "plt.show()"
   ]
  },
  {
   "cell_type": "code",
   "execution_count": 23,
   "id": "0e27303f",
   "metadata": {
    "execution": {
     "iopub.execute_input": "2024-07-11T15:16:36.306493Z",
     "iopub.status.busy": "2024-07-11T15:16:36.305134Z",
     "iopub.status.idle": "2024-07-11T15:16:36.317041Z",
     "shell.execute_reply": "2024-07-11T15:16:36.316251Z"
    },
    "papermill": {
     "duration": 0.033492,
     "end_time": "2024-07-11T15:16:36.319035",
     "exception": false,
     "start_time": "2024-07-11T15:16:36.285543",
     "status": "completed"
    },
    "tags": []
   },
   "outputs": [
    {
     "data": {
      "text/plain": [
       "region\n",
       "United Kingdom    162\n",
       "California         90\n",
       "New York City      74\n",
       "Hong Kong          63\n",
       "Singapore          39\n",
       "Denmark            28\n",
       "Thailand           26\n",
       "South Korea        26\n",
       "Taipei             24\n",
       "Chicago            22\n",
       "Sweden             22\n",
       "Austria            19\n",
       "Macau              19\n",
       "Washington DC      16\n",
       "Ireland            14\n",
       "Sao Paulo          12\n",
       "Norway              8\n",
       "Rio de Janeiro      6\n",
       "Hungary             6\n",
       "Finland             6\n",
       "Croatia             5\n",
       "Greece              4\n",
       "Poland              2\n",
       "Czech Republic      2\n",
       "Name: count, dtype: int64"
      ]
     },
     "execution_count": 23,
     "metadata": {},
     "output_type": "execute_result"
    }
   ],
   "source": [
    "michelin_stars.value_counts('region')"
   ]
  },
  {
   "cell_type": "code",
   "execution_count": 24,
   "id": "cc6fff91",
   "metadata": {
    "execution": {
     "iopub.execute_input": "2024-07-11T15:16:36.343271Z",
     "iopub.status.busy": "2024-07-11T15:16:36.342905Z",
     "iopub.status.idle": "2024-07-11T15:16:36.352298Z",
     "shell.execute_reply": "2024-07-11T15:16:36.351219Z"
    },
    "papermill": {
     "duration": 0.024679,
     "end_time": "2024-07-11T15:16:36.354552",
     "exception": false,
     "start_time": "2024-07-11T15:16:36.329873",
     "status": "completed"
    },
    "tags": []
   },
   "outputs": [
    {
     "data": {
      "text/plain": [
       "cuisine\n",
       "Modern cuisine           108\n",
       "Contemporary              75\n",
       "Japanese                  54\n",
       "Creative                  46\n",
       "Cantonese                 40\n",
       "Modern British            38\n",
       "French                    29\n",
       "Innovative                28\n",
       "Italian                   21\n",
       "French contemporary       19\n",
       "Sushi                     17\n",
       "Chinese                   15\n",
       "Classic cuisine           15\n",
       "Californian               14\n",
       "Korean                    13\n",
       "Thai                      13\n",
       "Indian                    12\n",
       "Seafood                   12\n",
       "American                  10\n",
       "European contemporary      7\n",
       "Name: count, dtype: int64"
      ]
     },
     "execution_count": 24,
     "metadata": {},
     "output_type": "execute_result"
    }
   ],
   "source": [
    "michelin_stars.value_counts('cuisine').head(20)"
   ]
  }
 ],
 "metadata": {
  "kaggle": {
   "accelerator": "none",
   "dataSources": [
    {
     "datasetId": 5371295,
     "sourceId": 8929156,
     "sourceType": "datasetVersion"
    }
   ],
   "dockerImageVersionId": 30732,
   "isGpuEnabled": false,
   "isInternetEnabled": true,
   "language": "python",
   "sourceType": "notebook"
  },
  "kernelspec": {
   "display_name": "Python 3",
   "language": "python",
   "name": "python3"
  },
  "language_info": {
   "codemirror_mode": {
    "name": "ipython",
    "version": 3
   },
   "file_extension": ".py",
   "mimetype": "text/x-python",
   "name": "python",
   "nbconvert_exporter": "python",
   "pygments_lexer": "ipython3",
   "version": "3.10.13"
  },
  "papermill": {
   "default_parameters": {},
   "duration": 7.760989,
   "end_time": "2024-07-11T15:16:36.988100",
   "environment_variables": {},
   "exception": null,
   "input_path": "__notebook__.ipynb",
   "output_path": "__notebook__.ipynb",
   "parameters": {},
   "start_time": "2024-07-11T15:16:29.227111",
   "version": "2.5.0"
  }
 },
 "nbformat": 4,
 "nbformat_minor": 5
}
