{
 "cells": [
  {
   "cell_type": "markdown",
   "id": "6c368489",
   "metadata": {
    "papermill": {
     "duration": 0.013124,
     "end_time": "2024-07-12T15:30:31.256510",
     "exception": false,
     "start_time": "2024-07-12T15:30:31.243386",
     "status": "completed"
    },
    "tags": []
   },
   "source": [
    "**Origins**\n",
    "\n",
    "Michelin Stars originated in a country best known for its passion for cuisine – France. Originally they were a feature of the Michelin guide books published in 1900 by Andre and Edourd Michelin - the founders of the Michelin tyre company.\n",
    "Having started the company in 1889 the brothers were looking for a method to compel the then limited number of drivers to make more journeys and by extension, buy more tyres. The guide listed a wealth of information for motorists which included where to find the best meals and accommodation whilst touring in their cars.\n",
    "\n",
    "As the business grew, so did the guide, becoming so popular that a charge was introduced in 1920.\n",
    "\n",
    "By then, the dining element was in such high demand that Michelin decided to set up a team of inspectors whose job it was to visit – anonymously - and rate restaurants on a 3-category basis. The rating systems – still in place today and with more than a passing nod to its motoring roots - was referred to as ‘Michelin Stars’. 3 stars being ‘exceptional cuisine, worth a special journey’, 2 stars ‘excellent cooking, worth a detour and 1 star, a very good restaurant in its category’"
   ]
  },
  {
   "cell_type": "markdown",
   "id": "a263537a",
   "metadata": {
    "papermill": {
     "duration": 0.007871,
     "end_time": "2024-07-12T15:30:31.272890",
     "exception": false,
     "start_time": "2024-07-12T15:30:31.265019",
     "status": "completed"
    },
    "tags": []
   },
   "source": [
    "The data for both one-star and two-star Michelin restaurants contain the following columns:\n",
    "\n",
    "name: Name of the restaurant\n",
    "year: Year the data was recorded\n",
    "latitude: Latitude coordinate of the restaurant's location\n",
    "longitude: Longitude coordinate of the restaurant's location\n",
    "city: City where the restaurant is located\n",
    "region: Region where the restaurant is located\n",
    "zipCode: Postal code of the restaurant's location\n",
    "cuisine: Type of cuisine served at the restaurant\n",
    "price: Price category of the restaurant\n",
    "url: URL to the restaurant's Michelin guide page\n",
    "\n",
    "\n",
    "Steps for Analysis:\n",
    "Combine the Data: Merge the one-star and two-star restaurant data for a comprehensive view.\n",
    "Filter by Location: Focus on restaurants in Paris.\n",
    "Analyze Cuisine Types: Identify the most common types of cuisine.\n",
    "Price Analysis: Understand the price distribution.\n",
    "Geographic Distribution: Visualize the geographic distribution of these restaurants in Paris.\n"
   ]
  },
  {
   "cell_type": "markdown",
   "id": "8468d106",
   "metadata": {
    "papermill": {
     "duration": 0.007984,
     "end_time": "2024-07-12T15:30:31.289110",
     "exception": false,
     "start_time": "2024-07-12T15:30:31.281126",
     "status": "completed"
    },
    "tags": []
   },
   "source": [
    "These steps will help you analyze the data and provide insights into the Michelin-starred restaurants in Paris, including the types of cuisine and their distribution."
   ]
  },
  {
   "cell_type": "code",
   "execution_count": 1,
   "id": "fed20cfb",
   "metadata": {
    "_cell_guid": "b1076dfc-b9ad-4769-8c92-a6c4dae69d19",
    "_uuid": "8f2839f25d086af736a60e9eeb907d3b93b6e0e5",
    "execution": {
     "iopub.execute_input": "2024-07-12T15:30:31.308133Z",
     "iopub.status.busy": "2024-07-12T15:30:31.307252Z",
     "iopub.status.idle": "2024-07-12T15:30:33.745159Z",
     "shell.execute_reply": "2024-07-12T15:30:33.743932Z"
    },
    "papermill": {
     "duration": 2.450028,
     "end_time": "2024-07-12T15:30:33.747548",
     "exception": false,
     "start_time": "2024-07-12T15:30:31.297520",
     "status": "completed"
    },
    "tags": []
   },
   "outputs": [
    {
     "name": "stdout",
     "output_type": "stream",
     "text": [
      "/kaggle/input/michelin-star-restaurants/one-star-michelin-restaurants.csv\n",
      "/kaggle/input/michelin-star-restaurants/three-stars-michelin-restaurants.csv\n",
      "/kaggle/input/michelin-star-restaurants/two-stars-michelin-restaurants.csv\n"
     ]
    }
   ],
   "source": [
    "# This Python 3 environment comes with many helpful analytics libraries installed\n",
    "# It is defined by the kaggle/python Docker image: https://github.com/kaggle/docker-python\n",
    "# For example, here's several helpful packages to load\n",
    "\n",
    "import numpy as np # linear algebra\n",
    "import pandas as pd # data processing, CSV file I/O (e.g. pd.read_csv)\n",
    "\n",
    "# Load the standard libraries to visualize data set\n",
    "import matplotlib.pyplot as plt\n",
    "import seaborn as sns\n",
    "\n",
    "# Input data files are available in the read-only \"../input/\" directory\n",
    "# For example, running this (by clicking run or pressing Shift+Enter) will list all files under the input directory\n",
    "\n",
    "import os\n",
    "for dirname, _, filenames in os.walk('/kaggle/input'):\n",
    "    for filename in filenames:\n",
    "        print(os.path.join(dirname, filename))\n",
    "\n",
    "# You can write up to 20GB to the current directory (/kaggle/working/) that gets preserved as output when you create a version using \"Save & Run All\" \n",
    "# You can also write temporary files to /kaggle/temp/, but they won't be saved outside of the current session"
   ]
  },
  {
   "cell_type": "code",
   "execution_count": 2,
   "id": "14f9f679",
   "metadata": {
    "execution": {
     "iopub.execute_input": "2024-07-12T15:30:33.766466Z",
     "iopub.status.busy": "2024-07-12T15:30:33.765970Z",
     "iopub.status.idle": "2024-07-12T15:30:33.807265Z",
     "shell.execute_reply": "2024-07-12T15:30:33.805949Z"
    },
    "papermill": {
     "duration": 0.053772,
     "end_time": "2024-07-12T15:30:33.809999",
     "exception": false,
     "start_time": "2024-07-12T15:30:33.756227",
     "status": "completed"
    },
    "tags": []
   },
   "outputs": [],
   "source": [
    "# Load the three Michelin Stars dataset into a pandas dataframe\n",
    "\n",
    "one_star = pd.read_csv('/kaggle/input/michelin-star-restaurants/one-star-michelin-restaurants.csv')\n",
    "two_stars = pd.read_csv('/kaggle/input/michelin-star-restaurants/two-stars-michelin-restaurants.csv')\n",
    "three_stars = pd.read_csv('/kaggle/input/michelin-star-restaurants/three-stars-michelin-restaurants.csv')\n"
   ]
  },
  {
   "cell_type": "code",
   "execution_count": 3,
   "id": "d9a27638",
   "metadata": {
    "execution": {
     "iopub.execute_input": "2024-07-12T15:30:33.829408Z",
     "iopub.status.busy": "2024-07-12T15:30:33.829022Z",
     "iopub.status.idle": "2024-07-12T15:30:33.856800Z",
     "shell.execute_reply": "2024-07-12T15:30:33.855713Z"
    },
    "papermill": {
     "duration": 0.040371,
     "end_time": "2024-07-12T15:30:33.859186",
     "exception": false,
     "start_time": "2024-07-12T15:30:33.818815",
     "status": "completed"
    },
    "tags": []
   },
   "outputs": [
    {
     "data": {
      "text/html": [
       "<div>\n",
       "<style scoped>\n",
       "    .dataframe tbody tr th:only-of-type {\n",
       "        vertical-align: middle;\n",
       "    }\n",
       "\n",
       "    .dataframe tbody tr th {\n",
       "        vertical-align: top;\n",
       "    }\n",
       "\n",
       "    .dataframe thead th {\n",
       "        text-align: right;\n",
       "    }\n",
       "</style>\n",
       "<table border=\"1\" class=\"dataframe\">\n",
       "  <thead>\n",
       "    <tr style=\"text-align: right;\">\n",
       "      <th></th>\n",
       "      <th>name</th>\n",
       "      <th>year</th>\n",
       "      <th>latitude</th>\n",
       "      <th>longitude</th>\n",
       "      <th>city</th>\n",
       "      <th>region</th>\n",
       "      <th>zipCode</th>\n",
       "      <th>cuisine</th>\n",
       "      <th>price</th>\n",
       "      <th>url</th>\n",
       "    </tr>\n",
       "  </thead>\n",
       "  <tbody>\n",
       "    <tr>\n",
       "      <th>0</th>\n",
       "      <td>Kilian Stuba</td>\n",
       "      <td>2019</td>\n",
       "      <td>47.348580</td>\n",
       "      <td>10.17114</td>\n",
       "      <td>Kleinwalsertal</td>\n",
       "      <td>Austria</td>\n",
       "      <td>87568</td>\n",
       "      <td>Creative</td>\n",
       "      <td>$$$$$</td>\n",
       "      <td>https://guide.michelin.com/at/en/vorarlberg/kl...</td>\n",
       "    </tr>\n",
       "    <tr>\n",
       "      <th>1</th>\n",
       "      <td>Pfefferschiff</td>\n",
       "      <td>2019</td>\n",
       "      <td>47.837870</td>\n",
       "      <td>13.07917</td>\n",
       "      <td>Hallwang</td>\n",
       "      <td>Austria</td>\n",
       "      <td>5300</td>\n",
       "      <td>Classic cuisine</td>\n",
       "      <td>$$$$$</td>\n",
       "      <td>https://guide.michelin.com/at/en/salzburg-regi...</td>\n",
       "    </tr>\n",
       "    <tr>\n",
       "      <th>2</th>\n",
       "      <td>Esszimmer</td>\n",
       "      <td>2019</td>\n",
       "      <td>47.806850</td>\n",
       "      <td>13.03409</td>\n",
       "      <td>Salzburg</td>\n",
       "      <td>Austria</td>\n",
       "      <td>5020</td>\n",
       "      <td>Creative</td>\n",
       "      <td>$$$$$</td>\n",
       "      <td>https://guide.michelin.com/at/en/salzburg-regi...</td>\n",
       "    </tr>\n",
       "    <tr>\n",
       "      <th>3</th>\n",
       "      <td>Carpe Diem</td>\n",
       "      <td>2019</td>\n",
       "      <td>47.800010</td>\n",
       "      <td>13.04006</td>\n",
       "      <td>Salzburg</td>\n",
       "      <td>Austria</td>\n",
       "      <td>5020</td>\n",
       "      <td>Market cuisine</td>\n",
       "      <td>$$$$$</td>\n",
       "      <td>https://guide.michelin.com/at/en/salzburg-regi...</td>\n",
       "    </tr>\n",
       "    <tr>\n",
       "      <th>4</th>\n",
       "      <td>Edvard</td>\n",
       "      <td>2019</td>\n",
       "      <td>48.216503</td>\n",
       "      <td>16.36852</td>\n",
       "      <td>Wien</td>\n",
       "      <td>Austria</td>\n",
       "      <td>1010</td>\n",
       "      <td>Modern cuisine</td>\n",
       "      <td>$$$$</td>\n",
       "      <td>https://guide.michelin.com/at/en/vienna/wien/r...</td>\n",
       "    </tr>\n",
       "  </tbody>\n",
       "</table>\n",
       "</div>"
      ],
      "text/plain": [
       "            name  year   latitude  longitude            city   region zipCode  \\\n",
       "0   Kilian Stuba  2019  47.348580   10.17114  Kleinwalsertal  Austria   87568   \n",
       "1  Pfefferschiff  2019  47.837870   13.07917        Hallwang  Austria    5300   \n",
       "2      Esszimmer  2019  47.806850   13.03409        Salzburg  Austria    5020   \n",
       "3     Carpe Diem  2019  47.800010   13.04006        Salzburg  Austria    5020   \n",
       "4         Edvard  2019  48.216503   16.36852            Wien  Austria    1010   \n",
       "\n",
       "           cuisine  price                                                url  \n",
       "0         Creative  $$$$$  https://guide.michelin.com/at/en/vorarlberg/kl...  \n",
       "1  Classic cuisine  $$$$$  https://guide.michelin.com/at/en/salzburg-regi...  \n",
       "2         Creative  $$$$$  https://guide.michelin.com/at/en/salzburg-regi...  \n",
       "3   Market cuisine  $$$$$  https://guide.michelin.com/at/en/salzburg-regi...  \n",
       "4   Modern cuisine   $$$$  https://guide.michelin.com/at/en/vienna/wien/r...  "
      ]
     },
     "execution_count": 3,
     "metadata": {},
     "output_type": "execute_result"
    }
   ],
   "source": [
    "# Display the first 5 rows of one dataset\n",
    "\n",
    "one_star.head(5)\n"
   ]
  },
  {
   "cell_type": "code",
   "execution_count": 4,
   "id": "c414be57",
   "metadata": {
    "execution": {
     "iopub.execute_input": "2024-07-12T15:30:33.878236Z",
     "iopub.status.busy": "2024-07-12T15:30:33.877888Z",
     "iopub.status.idle": "2024-07-12T15:30:33.904800Z",
     "shell.execute_reply": "2024-07-12T15:30:33.903720Z"
    },
    "papermill": {
     "duration": 0.039195,
     "end_time": "2024-07-12T15:30:33.907244",
     "exception": false,
     "start_time": "2024-07-12T15:30:33.868049",
     "status": "completed"
    },
    "tags": []
   },
   "outputs": [
    {
     "data": {
      "text/html": [
       "<div>\n",
       "<style scoped>\n",
       "    .dataframe tbody tr th:only-of-type {\n",
       "        vertical-align: middle;\n",
       "    }\n",
       "\n",
       "    .dataframe tbody tr th {\n",
       "        vertical-align: top;\n",
       "    }\n",
       "\n",
       "    .dataframe thead th {\n",
       "        text-align: right;\n",
       "    }\n",
       "</style>\n",
       "<table border=\"1\" class=\"dataframe\">\n",
       "  <thead>\n",
       "    <tr style=\"text-align: right;\">\n",
       "      <th></th>\n",
       "      <th>name</th>\n",
       "      <th>year</th>\n",
       "      <th>latitude</th>\n",
       "      <th>longitude</th>\n",
       "      <th>city</th>\n",
       "      <th>region</th>\n",
       "      <th>zipCode</th>\n",
       "      <th>cuisine</th>\n",
       "      <th>price</th>\n",
       "      <th>url</th>\n",
       "      <th>Michelin stars</th>\n",
       "    </tr>\n",
       "  </thead>\n",
       "  <tbody>\n",
       "    <tr>\n",
       "      <th>0</th>\n",
       "      <td>Kilian Stuba</td>\n",
       "      <td>2019</td>\n",
       "      <td>47.348580</td>\n",
       "      <td>10.171140</td>\n",
       "      <td>Kleinwalsertal</td>\n",
       "      <td>Austria</td>\n",
       "      <td>87568</td>\n",
       "      <td>Creative</td>\n",
       "      <td>$$$$$</td>\n",
       "      <td>https://guide.michelin.com/at/en/vorarlberg/kl...</td>\n",
       "      <td>1</td>\n",
       "    </tr>\n",
       "    <tr>\n",
       "      <th>1</th>\n",
       "      <td>Pfefferschiff</td>\n",
       "      <td>2019</td>\n",
       "      <td>47.837870</td>\n",
       "      <td>13.079170</td>\n",
       "      <td>Hallwang</td>\n",
       "      <td>Austria</td>\n",
       "      <td>5300</td>\n",
       "      <td>Classic cuisine</td>\n",
       "      <td>$$$$$</td>\n",
       "      <td>https://guide.michelin.com/at/en/salzburg-regi...</td>\n",
       "      <td>1</td>\n",
       "    </tr>\n",
       "    <tr>\n",
       "      <th>2</th>\n",
       "      <td>Esszimmer</td>\n",
       "      <td>2019</td>\n",
       "      <td>47.806850</td>\n",
       "      <td>13.034090</td>\n",
       "      <td>Salzburg</td>\n",
       "      <td>Austria</td>\n",
       "      <td>5020</td>\n",
       "      <td>Creative</td>\n",
       "      <td>$$$$$</td>\n",
       "      <td>https://guide.michelin.com/at/en/salzburg-regi...</td>\n",
       "      <td>1</td>\n",
       "    </tr>\n",
       "    <tr>\n",
       "      <th>3</th>\n",
       "      <td>Carpe Diem</td>\n",
       "      <td>2019</td>\n",
       "      <td>47.800010</td>\n",
       "      <td>13.040060</td>\n",
       "      <td>Salzburg</td>\n",
       "      <td>Austria</td>\n",
       "      <td>5020</td>\n",
       "      <td>Market cuisine</td>\n",
       "      <td>$$$$$</td>\n",
       "      <td>https://guide.michelin.com/at/en/salzburg-regi...</td>\n",
       "      <td>1</td>\n",
       "    </tr>\n",
       "    <tr>\n",
       "      <th>4</th>\n",
       "      <td>Edvard</td>\n",
       "      <td>2019</td>\n",
       "      <td>48.216503</td>\n",
       "      <td>16.368520</td>\n",
       "      <td>Wien</td>\n",
       "      <td>Austria</td>\n",
       "      <td>1010</td>\n",
       "      <td>Modern cuisine</td>\n",
       "      <td>$$$$</td>\n",
       "      <td>https://guide.michelin.com/at/en/vienna/wien/r...</td>\n",
       "      <td>1</td>\n",
       "    </tr>\n",
       "    <tr>\n",
       "      <th>...</th>\n",
       "      <td>...</td>\n",
       "      <td>...</td>\n",
       "      <td>...</td>\n",
       "      <td>...</td>\n",
       "      <td>...</td>\n",
       "      <td>...</td>\n",
       "      <td>...</td>\n",
       "      <td>...</td>\n",
       "      <td>...</td>\n",
       "      <td>...</td>\n",
       "      <td>...</td>\n",
       "    </tr>\n",
       "    <tr>\n",
       "      <th>31</th>\n",
       "      <td>Fat Duck</td>\n",
       "      <td>2019</td>\n",
       "      <td>51.508280</td>\n",
       "      <td>-0.702320</td>\n",
       "      <td>Bray</td>\n",
       "      <td>United Kingdom</td>\n",
       "      <td>SL6 2AQ</td>\n",
       "      <td>Creative</td>\n",
       "      <td>NaN</td>\n",
       "      <td>https://guide.michelin.com/gb/en/buckinghamshi...</td>\n",
       "      <td>3</td>\n",
       "    </tr>\n",
       "    <tr>\n",
       "      <th>32</th>\n",
       "      <td>Waterside Inn</td>\n",
       "      <td>2019</td>\n",
       "      <td>51.507730</td>\n",
       "      <td>-0.701210</td>\n",
       "      <td>Bray</td>\n",
       "      <td>United Kingdom</td>\n",
       "      <td>SL6 2AT</td>\n",
       "      <td>Classic French</td>\n",
       "      <td>NaN</td>\n",
       "      <td>https://guide.michelin.com/gb/en/buckinghamshi...</td>\n",
       "      <td>3</td>\n",
       "    </tr>\n",
       "    <tr>\n",
       "      <th>33</th>\n",
       "      <td>Alain Ducasse at The Dorchester</td>\n",
       "      <td>2019</td>\n",
       "      <td>51.507120</td>\n",
       "      <td>-0.152520</td>\n",
       "      <td>Mayfair</td>\n",
       "      <td>United Kingdom</td>\n",
       "      <td>W1K 1QA</td>\n",
       "      <td>French</td>\n",
       "      <td>NaN</td>\n",
       "      <td>https://guide.michelin.com/gb/en/greater-londo...</td>\n",
       "      <td>3</td>\n",
       "    </tr>\n",
       "    <tr>\n",
       "      <th>34</th>\n",
       "      <td>The Araki</td>\n",
       "      <td>2019</td>\n",
       "      <td>51.511826</td>\n",
       "      <td>-0.140389</td>\n",
       "      <td>Mayfair</td>\n",
       "      <td>United Kingdom</td>\n",
       "      <td>W1S 3BF</td>\n",
       "      <td>Japanese</td>\n",
       "      <td>NaN</td>\n",
       "      <td>https://guide.michelin.com/gb/en/greater-londo...</td>\n",
       "      <td>3</td>\n",
       "    </tr>\n",
       "    <tr>\n",
       "      <th>35</th>\n",
       "      <td>Gordon Ramsay</td>\n",
       "      <td>2019</td>\n",
       "      <td>51.485460</td>\n",
       "      <td>-0.162020</td>\n",
       "      <td>Chelsea</td>\n",
       "      <td>United Kingdom</td>\n",
       "      <td>SW3 4HP</td>\n",
       "      <td>French</td>\n",
       "      <td>NaN</td>\n",
       "      <td>https://guide.michelin.com/gb/en/greater-londo...</td>\n",
       "      <td>3</td>\n",
       "    </tr>\n",
       "  </tbody>\n",
       "</table>\n",
       "<p>695 rows × 11 columns</p>\n",
       "</div>"
      ],
      "text/plain": [
       "                               name  year   latitude  longitude  \\\n",
       "0                      Kilian Stuba  2019  47.348580  10.171140   \n",
       "1                     Pfefferschiff  2019  47.837870  13.079170   \n",
       "2                         Esszimmer  2019  47.806850  13.034090   \n",
       "3                        Carpe Diem  2019  47.800010  13.040060   \n",
       "4                            Edvard  2019  48.216503  16.368520   \n",
       "..                              ...   ...        ...        ...   \n",
       "31                         Fat Duck  2019  51.508280  -0.702320   \n",
       "32                    Waterside Inn  2019  51.507730  -0.701210   \n",
       "33  Alain Ducasse at The Dorchester  2019  51.507120  -0.152520   \n",
       "34                        The Araki  2019  51.511826  -0.140389   \n",
       "35                    Gordon Ramsay  2019  51.485460  -0.162020   \n",
       "\n",
       "              city          region  zipCode          cuisine  price  \\\n",
       "0   Kleinwalsertal         Austria    87568         Creative  $$$$$   \n",
       "1         Hallwang         Austria     5300  Classic cuisine  $$$$$   \n",
       "2         Salzburg         Austria     5020         Creative  $$$$$   \n",
       "3         Salzburg         Austria     5020   Market cuisine  $$$$$   \n",
       "4             Wien         Austria     1010   Modern cuisine   $$$$   \n",
       "..             ...             ...      ...              ...    ...   \n",
       "31            Bray  United Kingdom  SL6 2AQ         Creative    NaN   \n",
       "32            Bray  United Kingdom  SL6 2AT   Classic French    NaN   \n",
       "33         Mayfair  United Kingdom  W1K 1QA           French    NaN   \n",
       "34         Mayfair  United Kingdom  W1S 3BF         Japanese    NaN   \n",
       "35         Chelsea  United Kingdom  SW3 4HP           French    NaN   \n",
       "\n",
       "                                                  url  Michelin stars  \n",
       "0   https://guide.michelin.com/at/en/vorarlberg/kl...               1  \n",
       "1   https://guide.michelin.com/at/en/salzburg-regi...               1  \n",
       "2   https://guide.michelin.com/at/en/salzburg-regi...               1  \n",
       "3   https://guide.michelin.com/at/en/salzburg-regi...               1  \n",
       "4   https://guide.michelin.com/at/en/vienna/wien/r...               1  \n",
       "..                                                ...             ...  \n",
       "31  https://guide.michelin.com/gb/en/buckinghamshi...               3  \n",
       "32  https://guide.michelin.com/gb/en/buckinghamshi...               3  \n",
       "33  https://guide.michelin.com/gb/en/greater-londo...               3  \n",
       "34  https://guide.michelin.com/gb/en/greater-londo...               3  \n",
       "35  https://guide.michelin.com/gb/en/greater-londo...               3  \n",
       "\n",
       "[695 rows x 11 columns]"
      ]
     },
     "execution_count": 4,
     "metadata": {},
     "output_type": "execute_result"
    }
   ],
   "source": [
    "# Add a new Michelin stars Classification Column\n",
    "\n",
    "one_star['Michelin stars'] = 1\n",
    "two_stars['Michelin stars'] = 2\n",
    "three_stars['Michelin stars'] = 3\n",
    "\n",
    "# Join the three tables for an easier analysis\n",
    "\n",
    "michelin_stars = pd.concat([one_star,two_stars,three_stars],axis=0)\n",
    "michelin_stars"
   ]
  },
  {
   "cell_type": "code",
   "execution_count": 5,
   "id": "c49c780b",
   "metadata": {
    "execution": {
     "iopub.execute_input": "2024-07-12T15:30:33.927414Z",
     "iopub.status.busy": "2024-07-12T15:30:33.926956Z",
     "iopub.status.idle": "2024-07-12T15:30:33.951114Z",
     "shell.execute_reply": "2024-07-12T15:30:33.949724Z"
    },
    "papermill": {
     "duration": 0.037496,
     "end_time": "2024-07-12T15:30:33.953957",
     "exception": false,
     "start_time": "2024-07-12T15:30:33.916461",
     "status": "completed"
    },
    "tags": []
   },
   "outputs": [
    {
     "name": "stdout",
     "output_type": "stream",
     "text": [
      "<class 'pandas.core.frame.DataFrame'>\n",
      "Index: 695 entries, 0 to 35\n",
      "Data columns (total 11 columns):\n",
      " #   Column          Non-Null Count  Dtype  \n",
      "---  ------          --------------  -----  \n",
      " 0   name            695 non-null    object \n",
      " 1   year            695 non-null    int64  \n",
      " 2   latitude        695 non-null    float64\n",
      " 3   longitude       695 non-null    float64\n",
      " 4   city            693 non-null    object \n",
      " 5   region          695 non-null    object \n",
      " 6   zipCode         501 non-null    object \n",
      " 7   cuisine         695 non-null    object \n",
      " 8   price           519 non-null    object \n",
      " 9   url             695 non-null    object \n",
      " 10  Michelin stars  695 non-null    int64  \n",
      "dtypes: float64(2), int64(2), object(7)\n",
      "memory usage: 65.2+ KB\n"
     ]
    }
   ],
   "source": [
    "michelin_stars.info()"
   ]
  },
  {
   "cell_type": "markdown",
   "id": "ea5d0461",
   "metadata": {
    "papermill": {
     "duration": 0.008878,
     "end_time": "2024-07-12T15:30:33.973088",
     "exception": false,
     "start_time": "2024-07-12T15:30:33.964210",
     "status": "completed"
    },
    "tags": []
   },
   "source": [
    "# **Data Cleaning and Preprocessing**"
   ]
  },
  {
   "cell_type": "code",
   "execution_count": 6,
   "id": "a83bf9f5",
   "metadata": {
    "execution": {
     "iopub.execute_input": "2024-07-12T15:30:33.993435Z",
     "iopub.status.busy": "2024-07-12T15:30:33.993032Z",
     "iopub.status.idle": "2024-07-12T15:30:33.999613Z",
     "shell.execute_reply": "2024-07-12T15:30:33.998453Z"
    },
    "papermill": {
     "duration": 0.019564,
     "end_time": "2024-07-12T15:30:34.001948",
     "exception": false,
     "start_time": "2024-07-12T15:30:33.982384",
     "status": "completed"
    },
    "tags": []
   },
   "outputs": [],
   "source": [
    "#Drop columns\n",
    "\n",
    "michelin_stars = michelin_stars.drop(columns=['url','zipCode'])"
   ]
  },
  {
   "cell_type": "markdown",
   "id": "a2c550ae",
   "metadata": {
    "papermill": {
     "duration": 0.008885,
     "end_time": "2024-07-12T15:30:34.020262",
     "exception": false,
     "start_time": "2024-07-12T15:30:34.011377",
     "status": "completed"
    },
    "tags": []
   },
   "source": [
    "* Some columns were omitted, such as ‘url’ and ’zipCode’ because of their low relevance for this analysis"
   ]
  },
  {
   "cell_type": "code",
   "execution_count": 7,
   "id": "ecc2f6d9",
   "metadata": {
    "execution": {
     "iopub.execute_input": "2024-07-12T15:30:34.040840Z",
     "iopub.status.busy": "2024-07-12T15:30:34.040438Z",
     "iopub.status.idle": "2024-07-12T15:30:34.055584Z",
     "shell.execute_reply": "2024-07-12T15:30:34.054353Z"
    },
    "papermill": {
     "duration": 0.028495,
     "end_time": "2024-07-12T15:30:34.058050",
     "exception": false,
     "start_time": "2024-07-12T15:30:34.029555",
     "status": "completed"
    },
    "tags": []
   },
   "outputs": [
    {
     "data": {
      "text/html": [
       "<div>\n",
       "<style scoped>\n",
       "    .dataframe tbody tr th:only-of-type {\n",
       "        vertical-align: middle;\n",
       "    }\n",
       "\n",
       "    .dataframe tbody tr th {\n",
       "        vertical-align: top;\n",
       "    }\n",
       "\n",
       "    .dataframe thead th {\n",
       "        text-align: right;\n",
       "    }\n",
       "</style>\n",
       "<table border=\"1\" class=\"dataframe\">\n",
       "  <thead>\n",
       "    <tr style=\"text-align: right;\">\n",
       "      <th></th>\n",
       "      <th>name</th>\n",
       "      <th>year</th>\n",
       "      <th>latitude</th>\n",
       "      <th>longitude</th>\n",
       "      <th>city</th>\n",
       "      <th>region</th>\n",
       "      <th>cuisine</th>\n",
       "      <th>price</th>\n",
       "      <th>Michelin stars</th>\n",
       "    </tr>\n",
       "  </thead>\n",
       "  <tbody>\n",
       "  </tbody>\n",
       "</table>\n",
       "</div>"
      ],
      "text/plain": [
       "Empty DataFrame\n",
       "Columns: [name, year, latitude, longitude, city, region, cuisine, price, Michelin stars]\n",
       "Index: []"
      ]
     },
     "execution_count": 7,
     "metadata": {},
     "output_type": "execute_result"
    }
   ],
   "source": [
    "#Duplicates\n",
    "\n",
    "duplicates_stars = michelin_stars[michelin_stars.duplicated()].copy()\n",
    "duplicates_stars"
   ]
  },
  {
   "cell_type": "markdown",
   "id": "66ba1d72",
   "metadata": {
    "papermill": {
     "duration": 0.009236,
     "end_time": "2024-07-12T15:30:34.076808",
     "exception": false,
     "start_time": "2024-07-12T15:30:34.067572",
     "status": "completed"
    },
    "tags": []
   },
   "source": [
    "* Data shows has 0 duplicates."
   ]
  },
  {
   "cell_type": "code",
   "execution_count": 8,
   "id": "3f2bba47",
   "metadata": {
    "execution": {
     "iopub.execute_input": "2024-07-12T15:30:34.097766Z",
     "iopub.status.busy": "2024-07-12T15:30:34.097371Z",
     "iopub.status.idle": "2024-07-12T15:30:34.106494Z",
     "shell.execute_reply": "2024-07-12T15:30:34.105163Z"
    },
    "papermill": {
     "duration": 0.022698,
     "end_time": "2024-07-12T15:30:34.108976",
     "exception": false,
     "start_time": "2024-07-12T15:30:34.086278",
     "status": "completed"
    },
    "tags": []
   },
   "outputs": [
    {
     "data": {
      "text/plain": [
       "name                0\n",
       "year                0\n",
       "latitude            0\n",
       "longitude           0\n",
       "city                2\n",
       "region              0\n",
       "cuisine             0\n",
       "price             176\n",
       "Michelin stars      0\n",
       "dtype: int64"
      ]
     },
     "execution_count": 8,
     "metadata": {},
     "output_type": "execute_result"
    }
   ],
   "source": [
    "#Missing values\n",
    "\n",
    "michelin_stars.isna().sum()"
   ]
  },
  {
   "cell_type": "markdown",
   "id": "161db6e6",
   "metadata": {
    "papermill": {
     "duration": 0.010042,
     "end_time": "2024-07-12T15:30:34.128852",
     "exception": false,
     "start_time": "2024-07-12T15:30:34.118810",
     "status": "completed"
    },
    "tags": []
   },
   "source": [
    "* Data shows missing values on columns 'city' and 'price' that needs handling."
   ]
  },
  {
   "cell_type": "code",
   "execution_count": 9,
   "id": "bf966a97",
   "metadata": {
    "execution": {
     "iopub.execute_input": "2024-07-12T15:30:34.150132Z",
     "iopub.status.busy": "2024-07-12T15:30:34.149426Z",
     "iopub.status.idle": "2024-07-12T15:30:34.155915Z",
     "shell.execute_reply": "2024-07-12T15:30:34.154661Z"
    },
    "papermill": {
     "duration": 0.019789,
     "end_time": "2024-07-12T15:30:34.158417",
     "exception": false,
     "start_time": "2024-07-12T15:30:34.138628",
     "status": "completed"
    },
    "tags": []
   },
   "outputs": [
    {
     "name": "stdout",
     "output_type": "stream",
     "text": [
      "['$$$$$' '$$$$' '$$$' '$$' '$' nan]\n"
     ]
    }
   ],
   "source": [
    "print(michelin_stars['price'].unique())"
   ]
  },
  {
   "cell_type": "code",
   "execution_count": 10,
   "id": "a8d2c21d",
   "metadata": {
    "execution": {
     "iopub.execute_input": "2024-07-12T15:30:34.180210Z",
     "iopub.status.busy": "2024-07-12T15:30:34.179846Z",
     "iopub.status.idle": "2024-07-12T15:30:34.188158Z",
     "shell.execute_reply": "2024-07-12T15:30:34.186701Z"
    },
    "papermill": {
     "duration": 0.022177,
     "end_time": "2024-07-12T15:30:34.191078",
     "exception": false,
     "start_time": "2024-07-12T15:30:34.168901",
     "status": "completed"
    },
    "tags": []
   },
   "outputs": [
    {
     "name": "stdout",
     "output_type": "stream",
     "text": [
      "['$$$$$' '$$$$' '$$$' '$$' '$' '']\n"
     ]
    },
    {
     "name": "stderr",
     "output_type": "stream",
     "text": [
      "/tmp/ipykernel_18/3430188342.py:3: FutureWarning: A value is trying to be set on a copy of a DataFrame or Series through chained assignment using an inplace method.\n",
      "The behavior will change in pandas 3.0. This inplace method will never work because the intermediate object on which we are setting values always behaves as a copy.\n",
      "\n",
      "For example, when doing 'df[col].method(value, inplace=True)', try using 'df.method({col: value}, inplace=True)' or df[col] = df[col].method(value) instead, to perform the operation inplace on the original object.\n",
      "\n",
      "\n",
      "  michelin_stars['price'].fillna('', inplace=True)\n"
     ]
    }
   ],
   "source": [
    "#Handling missing values (NaN values) on the 'price' column\n",
    " \n",
    "michelin_stars['price'].fillna('', inplace=True)\n",
    "print(michelin_stars['price'].unique())"
   ]
  },
  {
   "cell_type": "code",
   "execution_count": 11,
   "id": "c7159356",
   "metadata": {
    "execution": {
     "iopub.execute_input": "2024-07-12T15:30:34.212492Z",
     "iopub.status.busy": "2024-07-12T15:30:34.212126Z",
     "iopub.status.idle": "2024-07-12T15:30:34.222708Z",
     "shell.execute_reply": "2024-07-12T15:30:34.221265Z"
    },
    "papermill": {
     "duration": 0.024621,
     "end_time": "2024-07-12T15:30:34.225621",
     "exception": false,
     "start_time": "2024-07-12T15:30:34.201000",
     "status": "completed"
    },
    "tags": []
   },
   "outputs": [
    {
     "name": "stdout",
     "output_type": "stream",
     "text": [
      "      name  year   latitude   longitude city     region     cuisine price  \\\n",
      "152  Épure  2019  22.295830  114.169304  NaN  Hong Kong      French   $$$   \n",
      "166  Arbor  2019  22.283146  114.155420  NaN  Hong Kong  Innovative   $$$   \n",
      "\n",
      "     Michelin stars  \n",
      "152               1  \n",
      "166               1  \n"
     ]
    }
   ],
   "source": [
    "# Locate missing values in the 'city' column\n",
    "missing_values = michelin_stars[michelin_stars['city'].isna()]\n",
    "\n",
    "# Display the rows with missing values\n",
    "print(missing_values)"
   ]
  },
  {
   "cell_type": "code",
   "execution_count": 12,
   "id": "2af12447",
   "metadata": {
    "execution": {
     "iopub.execute_input": "2024-07-12T15:30:34.248473Z",
     "iopub.status.busy": "2024-07-12T15:30:34.248089Z",
     "iopub.status.idle": "2024-07-12T15:30:34.257228Z",
     "shell.execute_reply": "2024-07-12T15:30:34.256121Z"
    },
    "papermill": {
     "duration": 0.024943,
     "end_time": "2024-07-12T15:30:34.260682",
     "exception": false,
     "start_time": "2024-07-12T15:30:34.235739",
     "status": "completed"
    },
    "tags": []
   },
   "outputs": [
    {
     "name": "stdout",
     "output_type": "stream",
     "text": [
      "Empty DataFrame\n",
      "Columns: [name, year, latitude, longitude, city, region, cuisine, price, Michelin stars]\n",
      "Index: []\n"
     ]
    },
    {
     "name": "stderr",
     "output_type": "stream",
     "text": [
      "/tmp/ipykernel_18/1127807254.py:3: FutureWarning: A value is trying to be set on a copy of a DataFrame or Series through chained assignment using an inplace method.\n",
      "The behavior will change in pandas 3.0. This inplace method will never work because the intermediate object on which we are setting values always behaves as a copy.\n",
      "\n",
      "For example, when doing 'df[col].method(value, inplace=True)', try using 'df.method({col: value}, inplace=True)' or df[col] = df[col].method(value) instead, to perform the operation inplace on the original object.\n",
      "\n",
      "\n",
      "  michelin_stars['city'].fillna('', inplace=True)\n"
     ]
    }
   ],
   "source": [
    "#Handling missing values (NaN values) on the 'city' column  \n",
    "\n",
    "michelin_stars['city'].fillna('', inplace=True)\n",
    "missing_values = michelin_stars[michelin_stars['city'].isna()]\n",
    "print(missing_values)"
   ]
  },
  {
   "cell_type": "code",
   "execution_count": 13,
   "id": "d2ed09b7",
   "metadata": {
    "execution": {
     "iopub.execute_input": "2024-07-12T15:30:34.282482Z",
     "iopub.status.busy": "2024-07-12T15:30:34.282115Z",
     "iopub.status.idle": "2024-07-12T15:30:34.291197Z",
     "shell.execute_reply": "2024-07-12T15:30:34.290026Z"
    },
    "papermill": {
     "duration": 0.022673,
     "end_time": "2024-07-12T15:30:34.293575",
     "exception": false,
     "start_time": "2024-07-12T15:30:34.270902",
     "status": "completed"
    },
    "tags": []
   },
   "outputs": [
    {
     "data": {
      "text/plain": [
       "name              0\n",
       "year              0\n",
       "latitude          0\n",
       "longitude         0\n",
       "city              0\n",
       "region            0\n",
       "cuisine           0\n",
       "price             0\n",
       "Michelin stars    0\n",
       "dtype: int64"
      ]
     },
     "execution_count": 13,
     "metadata": {},
     "output_type": "execute_result"
    }
   ],
   "source": [
    "#Confirming there is no missing values\n",
    "michelin_stars.isna().sum()"
   ]
  },
  {
   "cell_type": "markdown",
   "id": "6eb6b4bc",
   "metadata": {
    "papermill": {
     "duration": 0.010247,
     "end_time": "2024-07-12T15:30:34.314155",
     "exception": false,
     "start_time": "2024-07-12T15:30:34.303908",
     "status": "completed"
    },
    "tags": []
   },
   "source": [
    "* Data is now clean and there is no further missing values."
   ]
  },
  {
   "cell_type": "markdown",
   "id": "18790995",
   "metadata": {
    "papermill": {
     "duration": 0.010401,
     "end_time": "2024-07-12T15:30:34.334706",
     "exception": false,
     "start_time": "2024-07-12T15:30:34.324305",
     "status": "completed"
    },
    "tags": []
   },
   "source": [
    "# **Summary Statistics**"
   ]
  },
  {
   "cell_type": "code",
   "execution_count": 14,
   "id": "147b9266",
   "metadata": {
    "execution": {
     "iopub.execute_input": "2024-07-12T15:30:34.356937Z",
     "iopub.status.busy": "2024-07-12T15:30:34.356550Z",
     "iopub.status.idle": "2024-07-12T15:30:34.393250Z",
     "shell.execute_reply": "2024-07-12T15:30:34.392241Z"
    },
    "papermill": {
     "duration": 0.050956,
     "end_time": "2024-07-12T15:30:34.395927",
     "exception": false,
     "start_time": "2024-07-12T15:30:34.344971",
     "status": "completed"
    },
    "tags": []
   },
   "outputs": [
    {
     "data": {
      "text/html": [
       "<div>\n",
       "<style scoped>\n",
       "    .dataframe tbody tr th:only-of-type {\n",
       "        vertical-align: middle;\n",
       "    }\n",
       "\n",
       "    .dataframe tbody tr th {\n",
       "        vertical-align: top;\n",
       "    }\n",
       "\n",
       "    .dataframe thead th {\n",
       "        text-align: right;\n",
       "    }\n",
       "</style>\n",
       "<table border=\"1\" class=\"dataframe\">\n",
       "  <thead>\n",
       "    <tr style=\"text-align: right;\">\n",
       "      <th></th>\n",
       "      <th>name</th>\n",
       "      <th>year</th>\n",
       "      <th>latitude</th>\n",
       "      <th>longitude</th>\n",
       "      <th>city</th>\n",
       "      <th>region</th>\n",
       "      <th>cuisine</th>\n",
       "      <th>price</th>\n",
       "      <th>Michelin stars</th>\n",
       "    </tr>\n",
       "  </thead>\n",
       "  <tbody>\n",
       "    <tr>\n",
       "      <th>count</th>\n",
       "      <td>695</td>\n",
       "      <td>695.000000</td>\n",
       "      <td>695.000000</td>\n",
       "      <td>695.000000</td>\n",
       "      <td>695</td>\n",
       "      <td>695</td>\n",
       "      <td>695</td>\n",
       "      <td>695</td>\n",
       "      <td>695.000000</td>\n",
       "    </tr>\n",
       "    <tr>\n",
       "      <th>unique</th>\n",
       "      <td>684</td>\n",
       "      <td>NaN</td>\n",
       "      <td>NaN</td>\n",
       "      <td>NaN</td>\n",
       "      <td>180</td>\n",
       "      <td>24</td>\n",
       "      <td>70</td>\n",
       "      <td>6</td>\n",
       "      <td>NaN</td>\n",
       "    </tr>\n",
       "    <tr>\n",
       "      <th>top</th>\n",
       "      <td>L'Atelier de Joël Robuchon</td>\n",
       "      <td>NaN</td>\n",
       "      <td>NaN</td>\n",
       "      <td>NaN</td>\n",
       "      <td>New York</td>\n",
       "      <td>United Kingdom</td>\n",
       "      <td>Modern cuisine</td>\n",
       "      <td>$$$$</td>\n",
       "      <td>NaN</td>\n",
       "    </tr>\n",
       "    <tr>\n",
       "      <th>freq</th>\n",
       "      <td>3</td>\n",
       "      <td>NaN</td>\n",
       "      <td>NaN</td>\n",
       "      <td>NaN</td>\n",
       "      <td>74</td>\n",
       "      <td>162</td>\n",
       "      <td>108</td>\n",
       "      <td>197</td>\n",
       "      <td>NaN</td>\n",
       "    </tr>\n",
       "    <tr>\n",
       "      <th>mean</th>\n",
       "      <td>NaN</td>\n",
       "      <td>2018.943885</td>\n",
       "      <td>37.260124</td>\n",
       "      <td>4.417000</td>\n",
       "      <td>NaN</td>\n",
       "      <td>NaN</td>\n",
       "      <td>NaN</td>\n",
       "      <td>NaN</td>\n",
       "      <td>1.261871</td>\n",
       "    </tr>\n",
       "    <tr>\n",
       "      <th>std</th>\n",
       "      <td>NaN</td>\n",
       "      <td>0.230310</td>\n",
       "      <td>18.025875</td>\n",
       "      <td>81.095189</td>\n",
       "      <td>NaN</td>\n",
       "      <td>NaN</td>\n",
       "      <td>NaN</td>\n",
       "      <td>NaN</td>\n",
       "      <td>0.545270</td>\n",
       "    </tr>\n",
       "    <tr>\n",
       "      <th>min</th>\n",
       "      <td>NaN</td>\n",
       "      <td>2018.000000</td>\n",
       "      <td>-23.634005</td>\n",
       "      <td>-123.719444</td>\n",
       "      <td>NaN</td>\n",
       "      <td>NaN</td>\n",
       "      <td>NaN</td>\n",
       "      <td>NaN</td>\n",
       "      <td>1.000000</td>\n",
       "    </tr>\n",
       "    <tr>\n",
       "      <th>25%</th>\n",
       "      <td>NaN</td>\n",
       "      <td>2019.000000</td>\n",
       "      <td>25.040718</td>\n",
       "      <td>-73.982920</td>\n",
       "      <td>NaN</td>\n",
       "      <td>NaN</td>\n",
       "      <td>NaN</td>\n",
       "      <td>NaN</td>\n",
       "      <td>1.000000</td>\n",
       "    </tr>\n",
       "    <tr>\n",
       "      <th>50%</th>\n",
       "      <td>NaN</td>\n",
       "      <td>2019.000000</td>\n",
       "      <td>40.727130</td>\n",
       "      <td>-0.149570</td>\n",
       "      <td>NaN</td>\n",
       "      <td>NaN</td>\n",
       "      <td>NaN</td>\n",
       "      <td>NaN</td>\n",
       "      <td>1.000000</td>\n",
       "    </tr>\n",
       "    <tr>\n",
       "      <th>75%</th>\n",
       "      <td>NaN</td>\n",
       "      <td>2019.000000</td>\n",
       "      <td>51.508962</td>\n",
       "      <td>100.578855</td>\n",
       "      <td>NaN</td>\n",
       "      <td>NaN</td>\n",
       "      <td>NaN</td>\n",
       "      <td>NaN</td>\n",
       "      <td>1.000000</td>\n",
       "    </tr>\n",
       "    <tr>\n",
       "      <th>max</th>\n",
       "      <td>NaN</td>\n",
       "      <td>2019.000000</td>\n",
       "      <td>63.436260</td>\n",
       "      <td>127.102570</td>\n",
       "      <td>NaN</td>\n",
       "      <td>NaN</td>\n",
       "      <td>NaN</td>\n",
       "      <td>NaN</td>\n",
       "      <td>3.000000</td>\n",
       "    </tr>\n",
       "  </tbody>\n",
       "</table>\n",
       "</div>"
      ],
      "text/plain": [
       "                              name         year    latitude   longitude  \\\n",
       "count                          695   695.000000  695.000000  695.000000   \n",
       "unique                         684          NaN         NaN         NaN   \n",
       "top     L'Atelier de Joël Robuchon          NaN         NaN         NaN   \n",
       "freq                             3          NaN         NaN         NaN   \n",
       "mean                           NaN  2018.943885   37.260124    4.417000   \n",
       "std                            NaN     0.230310   18.025875   81.095189   \n",
       "min                            NaN  2018.000000  -23.634005 -123.719444   \n",
       "25%                            NaN  2019.000000   25.040718  -73.982920   \n",
       "50%                            NaN  2019.000000   40.727130   -0.149570   \n",
       "75%                            NaN  2019.000000   51.508962  100.578855   \n",
       "max                            NaN  2019.000000   63.436260  127.102570   \n",
       "\n",
       "            city          region         cuisine price  Michelin stars  \n",
       "count        695             695             695   695      695.000000  \n",
       "unique       180              24              70     6             NaN  \n",
       "top     New York  United Kingdom  Modern cuisine  $$$$             NaN  \n",
       "freq          74             162             108   197             NaN  \n",
       "mean         NaN             NaN             NaN   NaN        1.261871  \n",
       "std          NaN             NaN             NaN   NaN        0.545270  \n",
       "min          NaN             NaN             NaN   NaN        1.000000  \n",
       "25%          NaN             NaN             NaN   NaN        1.000000  \n",
       "50%          NaN             NaN             NaN   NaN        1.000000  \n",
       "75%          NaN             NaN             NaN   NaN        1.000000  \n",
       "max          NaN             NaN             NaN   NaN        3.000000  "
      ]
     },
     "execution_count": 14,
     "metadata": {},
     "output_type": "execute_result"
    }
   ],
   "source": [
    "#Statistics\n",
    "michelin_stars.describe(include='all',)"
   ]
  },
  {
   "cell_type": "markdown",
   "id": "c574d049",
   "metadata": {
    "papermill": {
     "duration": 0.010109,
     "end_time": "2024-07-12T15:30:34.416597",
     "exception": false,
     "start_time": "2024-07-12T15:30:34.406488",
     "status": "completed"
    },
    "tags": []
   },
   "source": [
    "# **Data Visualization**"
   ]
  },
  {
   "cell_type": "markdown",
   "id": "1886f29a",
   "metadata": {
    "papermill": {
     "duration": 0.011254,
     "end_time": "2024-07-12T15:30:34.438664",
     "exception": false,
     "start_time": "2024-07-12T15:30:34.427410",
     "status": "completed"
    },
    "tags": []
   },
   "source": [
    "*** Categorize price($) into 5 different groups (Inexpensive, Moderate, Expensive, Very Expensive, Luxury):**"
   ]
  },
  {
   "cell_type": "code",
   "execution_count": 15,
   "id": "20c111bf",
   "metadata": {
    "execution": {
     "iopub.execute_input": "2024-07-12T15:30:34.461418Z",
     "iopub.status.busy": "2024-07-12T15:30:34.461024Z",
     "iopub.status.idle": "2024-07-12T15:30:34.470970Z",
     "shell.execute_reply": "2024-07-12T15:30:34.469801Z"
    },
    "papermill": {
     "duration": 0.024118,
     "end_time": "2024-07-12T15:30:34.473272",
     "exception": false,
     "start_time": "2024-07-12T15:30:34.449154",
     "status": "completed"
    },
    "tags": []
   },
   "outputs": [
    {
     "name": "stdout",
     "output_type": "stream",
     "text": [
      "price_group\n",
      "Very Expensive    197\n",
      "Unknown           176\n",
      "Expensive         143\n",
      "Moderate           75\n",
      "Luxury             73\n",
      "Inexpensive        31\n",
      "Name: count, dtype: int64\n"
     ]
    }
   ],
   "source": [
    "def price_group(price_symbol):\n",
    "    return ('Inexpensive' if price_symbol == '$' \n",
    "            else 'Moderate' if price_symbol == '$$' \n",
    "            else 'Expensive' if price_symbol == '$$$' \n",
    "            else 'Very Expensive' if price_symbol == '$$$$' \n",
    "            else 'Luxury' if price_symbol == '$$$$$' \n",
    "            else 'Unknown')\n",
    "\n",
    "michelin_stars['price_group'] = michelin_stars['price'].apply(price_group)\n",
    "price_group_counts = michelin_stars['price_group'].value_counts()\n",
    "print(price_group_counts)"
   ]
  },
  {
   "cell_type": "markdown",
   "id": "7efd43e2",
   "metadata": {
    "papermill": {
     "duration": 0.010251,
     "end_time": "2024-07-12T15:30:34.494258",
     "exception": false,
     "start_time": "2024-07-12T15:30:34.484007",
     "status": "completed"
    },
    "tags": []
   },
   "source": [
    "*** Distribution of Price Range:**"
   ]
  },
  {
   "cell_type": "code",
   "execution_count": 16,
   "id": "8f8de722",
   "metadata": {
    "execution": {
     "iopub.execute_input": "2024-07-12T15:30:34.517208Z",
     "iopub.status.busy": "2024-07-12T15:30:34.516813Z",
     "iopub.status.idle": "2024-07-12T15:30:34.896040Z",
     "shell.execute_reply": "2024-07-12T15:30:34.894832Z"
    },
    "papermill": {
     "duration": 0.393751,
     "end_time": "2024-07-12T15:30:34.898708",
     "exception": false,
     "start_time": "2024-07-12T15:30:34.504957",
     "status": "completed"
    },
    "tags": []
   },
   "outputs": [
    {
     "data": {
      "image/png": "[encoded data removed]",
      "text/plain": [
       "<Figure size 640x480 with 1 Axes>"
      ]
     },
     "metadata": {},
     "output_type": "display_data"
    }
   ],
   "source": [
    "# Plot it in a horizontal bar chart for a better reading\n",
    "\n",
    "price_group_counts.sort_values().plot.barh()\n",
    "plt.title('Distribution of Price Range')\n",
    "plt.xlabel('Count')\n",
    "plt.ylabel('Price Group')\n",
    "plt.show()"
   ]
  },
  {
   "cell_type": "markdown",
   "id": "85acd069",
   "metadata": {
    "papermill": {
     "duration": 0.010503,
     "end_time": "2024-07-12T15:30:34.920394",
     "exception": false,
     "start_time": "2024-07-12T15:30:34.909891",
     "status": "completed"
    },
    "tags": []
   },
   "source": [
    "* **Distribution of Michelin Stars around the World:**"
   ]
  },
  {
   "cell_type": "code",
   "execution_count": 17,
   "id": "fb341de5",
   "metadata": {
    "execution": {
     "iopub.execute_input": "2024-07-12T15:30:34.944281Z",
     "iopub.status.busy": "2024-07-12T15:30:34.943884Z",
     "iopub.status.idle": "2024-07-12T15:30:35.194726Z",
     "shell.execute_reply": "2024-07-12T15:30:35.193601Z"
    },
    "papermill": {
     "duration": 0.265815,
     "end_time": "2024-07-12T15:30:35.197182",
     "exception": false,
     "start_time": "2024-07-12T15:30:34.931367",
     "status": "completed"
    },
    "tags": []
   },
   "outputs": [
    {
     "data": {
      "image/png": "[encoded data removed]",
      "text/plain": [
       "<Figure size 1000x600 with 1 Axes>"
      ]
     },
     "metadata": {},
     "output_type": "display_data"
    }
   ],
   "source": [
    "star_counts = michelin_stars['Michelin stars'].value_counts()\n",
    "\n",
    "# Plot the bar chart\n",
    "star_counts.plot(kind='bar', figsize=(10, 6), color='firebrick')\n",
    "plt.xlabel('Michelin Stars')\n",
    "plt.ylabel('Number of Restaurants')\n",
    "plt.title('Distribution of Michelin Stars around the World')\n",
    "plt.xticks(rotation=0)  # Rotate x-axis labels(1,2,3) for better readability\n",
    "plt.show()"
   ]
  },
  {
   "cell_type": "markdown",
   "id": "b4f867e4",
   "metadata": {
    "papermill": {
     "duration": 0.011213,
     "end_time": "2024-07-12T15:30:35.219986",
     "exception": false,
     "start_time": "2024-07-12T15:30:35.208773",
     "status": "completed"
    },
    "tags": []
   },
   "source": [
    "*** Number of Michelin-starred Restaurants by Country:**"
   ]
  },
  {
   "cell_type": "code",
   "execution_count": 18,
   "id": "327fffa4",
   "metadata": {
    "execution": {
     "iopub.execute_input": "2024-07-12T15:30:35.245919Z",
     "iopub.status.busy": "2024-07-12T15:30:35.244906Z",
     "iopub.status.idle": "2024-07-12T15:30:35.655117Z",
     "shell.execute_reply": "2024-07-12T15:30:35.653983Z"
    },
    "papermill": {
     "duration": 0.42626,
     "end_time": "2024-07-12T15:30:35.657849",
     "exception": false,
     "start_time": "2024-07-12T15:30:35.231589",
     "status": "completed"
    },
    "tags": []
   },
   "outputs": [
    {
     "data": {
      "image/png": "[encoded data removed]",
      "text/plain": [
       "<Figure size 1000x800 with 1 Axes>"
      ]
     },
     "metadata": {},
     "output_type": "display_data"
    }
   ],
   "source": [
    "region_counts = michelin_stars['region'].value_counts().sort_values()\n",
    "\n",
    "palette = ['lightgrey' if region != 'Singapore' else 'red' for region in region_counts.index]\n",
    "\n",
    "# Plot a horizontal bar chart with the custom color palette\n",
    "plt.figure(figsize=(10, 8))\n",
    "region_counts.plot(kind='barh', color=palette)\n",
    "plt.xlabel('Number of Restaurants')\n",
    "plt.ylabel('Region')\n",
    "plt.title('Number of Michelin-starred Restaurants by Country')\n",
    "plt.show()"
   ]
  },
  {
   "cell_type": "markdown",
   "id": "8fad187a",
   "metadata": {
    "papermill": {
     "duration": 0.01252,
     "end_time": "2024-07-12T15:30:35.682951",
     "exception": false,
     "start_time": "2024-07-12T15:30:35.670431",
     "status": "completed"
    },
    "tags": []
   },
   "source": [
    "*** Michelin Star Restaurants located in Singapore:**"
   ]
  },
  {
   "cell_type": "code",
   "execution_count": 19,
   "id": "2457e615",
   "metadata": {
    "execution": {
     "iopub.execute_input": "2024-07-12T15:30:35.710315Z",
     "iopub.status.busy": "2024-07-12T15:30:35.709894Z",
     "iopub.status.idle": "2024-07-12T15:30:35.722618Z",
     "shell.execute_reply": "2024-07-12T15:30:35.721353Z"
    },
    "papermill": {
     "duration": 0.029185,
     "end_time": "2024-07-12T15:30:35.725274",
     "exception": false,
     "start_time": "2024-07-12T15:30:35.696089",
     "status": "completed"
    },
    "tags": []
   },
   "outputs": [
    {
     "name": "stdout",
     "output_type": "stream",
     "text": [
      "(39, 10)\n",
      "                                name  year  latitude  longitude       city  \\\n",
      "308  Hill Street Tai Hwa Pork Noodle  2018  1.305200  103.86240  Singapore   \n",
      "309          Putien (Kitchener Road)  2018  1.309690  103.85730  Singapore   \n",
      "310                      Chef Kang's  2018  1.304735  103.84955  Singapore   \n",
      "311                        Garibaldi  2018  1.296564  103.85500  Singapore   \n",
      "312                  Summer Pavilion  2018  1.291284  103.86030  Singapore   \n",
      "\n",
      "        region      cuisine price  Michelin stars  price_group  \n",
      "308  Singapore  Street Food     $               1  Inexpensive  \n",
      "309  Singapore       Fujian     $               1  Inexpensive  \n",
      "310  Singapore    Cantonese   $$$               1    Expensive  \n",
      "311  Singapore      Italian     $               1  Inexpensive  \n",
      "312  Singapore    Cantonese    $$               1     Moderate  \n"
     ]
    }
   ],
   "source": [
    "singapore_restaurants = michelin_stars[michelin_stars['region'].str.contains('Singapore', case=False, na=False)]\n",
    "\n",
    "print(singapore_restaurants.shape)\n",
    "print(singapore_restaurants.head(5))"
   ]
  },
  {
   "cell_type": "markdown",
   "id": "139c5208",
   "metadata": {
    "papermill": {
     "duration": 0.012355,
     "end_time": "2024-07-12T15:30:35.750403",
     "exception": false,
     "start_time": "2024-07-12T15:30:35.738048",
     "status": "completed"
    },
    "tags": []
   },
   "source": [
    "**Geographic Distribution of Michelin-starred Restaurants in Singapore:**"
   ]
  },
  {
   "cell_type": "code",
   "execution_count": 20,
   "id": "b054ecd0",
   "metadata": {
    "execution": {
     "iopub.execute_input": "2024-07-12T15:30:35.777495Z",
     "iopub.status.busy": "2024-07-12T15:30:35.776812Z",
     "iopub.status.idle": "2024-07-12T15:30:36.483392Z",
     "shell.execute_reply": "2024-07-12T15:30:36.481489Z"
    },
    "papermill": {
     "duration": 0.724052,
     "end_time": "2024-07-12T15:30:36.487159",
     "exception": false,
     "start_time": "2024-07-12T15:30:35.763107",
     "status": "completed"
    },
    "tags": []
   },
   "outputs": [
    {
     "data": {
      "image/png": "[encoded data removed]",
      "text/plain": [
       "<Figure size 1000x800 with 1 Axes>"
      ]
     },
     "metadata": {},
     "output_type": "display_data"
    }
   ],
   "source": [
    "plt.figure(figsize=(10, 8))\n",
    "sns.scatterplot(x='longitude', y='latitude', data=singapore_restaurants, hue='cuisine', palette='tab10', s=100)\n",
    "plt.title('Geographic Distribution of Michelin-starred Restaurants in Singapore')\n",
    "plt.xlabel('Longitude')\n",
    "plt.ylabel('Latitude')\n",
    "\n",
    "plt.legend(loc='upper right', bbox_to_anchor=(1.25, 1))\n",
    "plt.show()\n"
   ]
  },
  {
   "cell_type": "markdown",
   "id": "5875f392",
   "metadata": {
    "papermill": {
     "duration": 0.013679,
     "end_time": "2024-07-12T15:30:36.515448",
     "exception": false,
     "start_time": "2024-07-12T15:30:36.501769",
     "status": "completed"
    },
    "tags": []
   },
   "source": [
    "*** Distribution of Michelin star Restaurants by Cuisine in Singapore:**"
   ]
  },
  {
   "cell_type": "code",
   "execution_count": 21,
   "id": "b8ff1ef4",
   "metadata": {
    "execution": {
     "iopub.execute_input": "2024-07-12T15:30:36.550699Z",
     "iopub.status.busy": "2024-07-12T15:30:36.549920Z",
     "iopub.status.idle": "2024-07-12T15:30:36.979382Z",
     "shell.execute_reply": "2024-07-12T15:30:36.978097Z"
    },
    "papermill": {
     "duration": 0.452605,
     "end_time": "2024-07-12T15:30:36.982096",
     "exception": false,
     "start_time": "2024-07-12T15:30:36.529491",
     "status": "completed"
    },
    "tags": []
   },
   "outputs": [
    {
     "data": {
      "image/png": "[encoded data removed]",
      "text/plain": [
       "<Figure size 1000x800 with 1 Axes>"
      ]
     },
     "metadata": {},
     "output_type": "display_data"
    }
   ],
   "source": [
    "cuisine_counts = singapore_restaurants['cuisine'].value_counts()\n",
    "\n",
    "plt.figure(figsize=(10, 8))\n",
    "sns.barplot(x=cuisine_counts.values, y=cuisine_counts.index, palette='mako')\n",
    "plt.xlabel('Number of Restaurants')\n",
    "plt.ylabel('Cuisine Type')\n",
    "plt.title('Distribution of Michelin-starred Restaurants by Cuisine in Singapore')\n",
    "plt.show()"
   ]
  },
  {
   "cell_type": "markdown",
   "id": "5bb91925",
   "metadata": {
    "papermill": {
     "duration": 0.01426,
     "end_time": "2024-07-12T15:30:37.011288",
     "exception": false,
     "start_time": "2024-07-12T15:30:36.997028",
     "status": "completed"
    },
    "tags": []
   },
   "source": [
    "* **Price Range in Singapore:**"
   ]
  },
  {
   "cell_type": "code",
   "execution_count": 22,
   "id": "d038c569",
   "metadata": {
    "execution": {
     "iopub.execute_input": "2024-07-12T15:30:37.042240Z",
     "iopub.status.busy": "2024-07-12T15:30:37.041845Z",
     "iopub.status.idle": "2024-07-12T15:30:37.049482Z",
     "shell.execute_reply": "2024-07-12T15:30:37.048216Z"
    },
    "papermill": {
     "duration": 0.026145,
     "end_time": "2024-07-12T15:30:37.052099",
     "exception": false,
     "start_time": "2024-07-12T15:30:37.025954",
     "status": "completed"
    },
    "tags": []
   },
   "outputs": [
    {
     "name": "stdout",
     "output_type": "stream",
     "text": [
      "price\n",
      "$        16\n",
      "$$       11\n",
      "$$$       7\n",
      "$$$$      3\n",
      "$$$$$     2\n",
      "Name: count, dtype: int64\n"
     ]
    }
   ],
   "source": [
    "price_distribution = singapore_restaurants['price'].value_counts()\n",
    "print(price_distribution)"
   ]
  },
  {
   "cell_type": "markdown",
   "id": "8634956a",
   "metadata": {
    "papermill": {
     "duration": 0.014613,
     "end_time": "2024-07-12T15:30:37.081897",
     "exception": false,
     "start_time": "2024-07-12T15:30:37.067284",
     "status": "completed"
    },
    "tags": []
   },
   "source": [
    "*** In Singapore, there are:**\n",
    "\n",
    "16 Inexpensive Michelin star Restaurants;\n",
    "\n",
    "11 Moderate Michelin star Restaurants;\n",
    "\n",
    "7 Expensive Michelin star Restaurants;\n",
    "\n",
    "3 Expensive Michelin star Restaurants;\n",
    "\n",
    "2 Expensive Michelin star Restaurants;"
   ]
  },
  {
   "cell_type": "code",
   "execution_count": 23,
   "id": "70878409",
   "metadata": {
    "execution": {
     "iopub.execute_input": "2024-07-12T15:30:37.114077Z",
     "iopub.status.busy": "2024-07-12T15:30:37.113669Z",
     "iopub.status.idle": "2024-07-12T15:30:37.118571Z",
     "shell.execute_reply": "2024-07-12T15:30:37.117308Z"
    },
    "papermill": {
     "duration": 0.023424,
     "end_time": "2024-07-12T15:30:37.120803",
     "exception": false,
     "start_time": "2024-07-12T15:30:37.097379",
     "status": "completed"
    },
    "tags": []
   },
   "outputs": [],
   "source": [
    "#RELATE CUISINES + PRICE IN SINGAPORE"
   ]
  }
 ],
 "metadata": {
  "kaggle": {
   "accelerator": "none",
   "dataSources": [
    {
     "datasetId": 5371295,
     "sourceId": 8929156,
     "sourceType": "datasetVersion"
    }
   ],
   "dockerImageVersionId": 30732,
   "isGpuEnabled": false,
   "isInternetEnabled": true,
   "language": "python",
   "sourceType": "notebook"
  },
  "kernelspec": {
   "display_name": "Python 3",
   "language": "python",
   "name": "python3"
  },
  "language_info": {
   "codemirror_mode": {
    "name": "ipython",
    "version": 3
   },
   "file_extension": ".py",
   "mimetype": "text/x-python",
   "name": "python",
   "nbconvert_exporter": "python",
   "pygments_lexer": "ipython3",
   "version": "3.10.13"
  },
  "papermill": {
   "default_parameters": {},
   "duration": 9.524015,
   "end_time": "2024-07-12T15:30:37.757255",
   "environment_variables": {},
   "exception": null,
   "input_path": "__notebook__.ipynb",
   "output_path": "__notebook__.ipynb",
   "parameters": {},
   "start_time": "2024-07-12T15:30:28.233240",
   "version": "2.5.0"
  }
 },
 "nbformat": 4,
 "nbformat_minor": 5
}
